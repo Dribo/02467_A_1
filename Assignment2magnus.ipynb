{
 "cells": [
  {
   "cell_type": "markdown",
   "source": [
    "***Assignment 2***\n",
    "by Magnus A. Nielsen (s204072) & Philip J. F. Helsted (s204147)\n",
    "GitHub:\n",
    "**Contribution statement**\n",
    "all work has been done cooperatively"
   ],
   "metadata": {
    "collapsed": false,
    "pycharm": {
     "name": "#%% md\n"
    }
   }
  },
  {
   "cell_type": "code",
   "execution_count": 1,
   "outputs": [],
   "source": [
    "# imports\n",
    "import ast\n",
    "\n",
    "import numpy as np\n",
    "import pandas as pd\n",
    "import networkx as nx\n",
    "import css_utils\n",
    "from tqdm import tqdm\n",
    "import matplotlib.pyplot as plt"
   ],
   "metadata": {
    "collapsed": false,
    "pycharm": {
     "name": "#%%\n"
    }
   }
  },
  {
   "cell_type": "code",
   "execution_count": 2,
   "outputs": [],
   "source": [
    "# Loading graph from week4\n",
    "css_graph = css_utils.read_json_file(\"data/graph.json\")\n",
    "\n",
    "# Setting random seed\n",
    "np.random.seed(79)"
   ],
   "metadata": {
    "collapsed": false,
    "pycharm": {
     "name": "#%%\n"
    }
   }
  },
  {
   "cell_type": "markdown",
   "source": [
    "# Part 1: Mixing Patterns and Assortativity"
   ],
   "metadata": {
    "collapsed": false,
    "pycharm": {
     "name": "#%% md\n"
    }
   }
  },
  {
   "cell_type": "code",
   "execution_count": 3,
   "outputs": [],
   "source": [
    "# Removing nodes with no top_field\n",
    "for author in list(css_graph.nodes):\n",
    "    css_utils.remove_node_if_no_field(css_graph, author)"
   ],
   "metadata": {
    "collapsed": false,
    "pycharm": {
     "name": "#%%\n"
    }
   }
  },
  {
   "cell_type": "code",
   "execution_count": 4,
   "outputs": [
    {
     "data": {
      "text/plain": "0.5105415002219263"
     },
     "execution_count": 4,
     "metadata": {},
     "output_type": "execute_result"
    }
   ],
   "source": [
    "# For each node, compute the fraction of edges that connect to a node that works in the same top field. Find the average value across all nodes.\n",
    "top_field_frac = np.mean([css_utils.edge_same_top_field(edge, css_graph) for edge in list(css_graph.edges)])\n",
    "top_field_frac"
   ],
   "metadata": {
    "collapsed": false,
    "pycharm": {
     "name": "#%%\n"
    }
   }
  },
  {
   "cell_type": "code",
   "execution_count": 5,
   "outputs": [
    {
     "name": "stderr",
     "output_type": "stream",
     "text": [
      "100%|██████████| 500/500 [00:16<00:00, 30.22it/s]\n"
     ]
    }
   ],
   "source": [
    "# Create a new graph, with the same nodes and edges, but where the association between nodes and field is shuffled.\n",
    "# Compute the measure above for this randomized graph.\n",
    "# Repeated 500 times\n",
    "results = []\n",
    "N_repeat = 500\n",
    "graph_copy = css_graph.copy()\n",
    "\n",
    "for i in tqdm(range(N_repeat)):\n",
    "    results.append(css_utils.randomize_field_get_mean(graph_copy, css_utils.get_field_list(css_graph)))"
   ],
   "metadata": {
    "collapsed": false,
    "pycharm": {
     "name": "#%%\n"
    }
   }
  },
  {
   "cell_type": "code",
   "execution_count": 6,
   "outputs": [
    {
     "data": {
      "text/plain": "<Figure size 640x480 with 1 Axes>",
      "image/png": "[encoded data removed]"
     },
     "metadata": {},
     "output_type": "display_data"
    }
   ],
   "source": [
    "bins = np.linspace(0.2, 0.55, 100)\n",
    "hist, edges = np.histogram(results, bins=bins)\n",
    "x = (edges[1:] + edges[:-1])/2\n",
    "width = bins[1] - bins[0]\n",
    "\n",
    "fig, axs = plt.subplots()\n",
    "axs.bar(x, hist, width=width*0.9)\n",
    "\n",
    "axs.set_xlabel('Same field fraction')\n",
    "axs.set_ylabel('N_repeats')\n",
    "axs.axline((top_field_frac, 0), (top_field_frac, max(results)), color='red', label='real mean')\n",
    "axs.legend()\n",
    "plt.show()"
   ],
   "metadata": {
    "collapsed": false,
    "pycharm": {
     "name": "#%%\n"
    }
   }
  },
  {
   "cell_type": "markdown",
   "source": [
    "*Is the chance to connect to a member of the same field significantly higher than it would be by chance?*\n",
    "When the association between nodes and field are randomized, the mean value we obtain for the connections is significantly lower than what we see in the real graph. The real graph has a mean value of 0.51, whereas the randomized graphs have a mean around 0.275. This means that in the real world there is a clear tendency to connect with people that work in the same field as yourself."
   ],
   "metadata": {
    "collapsed": false,
    "pycharm": {
     "name": "#%% md\n"
    }
   }
  },
  {
   "cell_type": "code",
   "execution_count": 7,
   "outputs": [],
   "source": [
    "# Compute the assortativity coefficient with respect to author's field.\n",
    "# How do you interpret the value you obtain? (Hint: See this paper, eq (2)).\n",
    "# Important: here I do not want you to use the NetworkX implementation, but rather to implement your own version of the measure.\n",
    "fields_unique = np.unique(css_utils.get_field_list(css_graph))\n",
    "fields_unique_n = len(fields_unique)\n",
    "\n",
    "field_index = {}\n",
    "\n",
    "for i in range(fields_unique_n): # Use this index for matrix\n",
    "    field_index[fields_unique[i]] = i\n",
    "\n",
    "degree_max = np.max([t[1] for t in list(css_graph.degree)])\n",
    "field_matrix = np.zeros((fields_unique_n-1, fields_unique_n-1)) # -1 to avoid the nan which is included in fields unique\n",
    "degree_matrix = np.zeros((44, 44))\n",
    "\n",
    "for edge in list(css_graph.edges): # For all edges, increment related matrix values\n",
    "\n",
    "    field_a = css_graph.nodes[edge[0]]['top_field']\n",
    "    field_b = css_graph.nodes[edge[1]]['top_field']\n",
    "\n",
    "    deg_a = css_graph.degree[edge[0]]\n",
    "    deg_b = css_graph.degree[edge[1]]\n",
    "\n",
    "    degree_matrix[deg_a, deg_b] += 1\n",
    "    degree_matrix[deg_b, deg_a] += 1\n",
    "\n",
    "    try:\n",
    "        field_a_index = field_index[field_a]\n",
    "        field_b_index = field_index[field_b]\n",
    "\n",
    "        field_matrix[field_a_index, field_b_index] += 1\n",
    "        field_matrix[field_b_index, field_a_index] += 1\n",
    "\n",
    "    except: # Some fields are nan, do nothing\n",
    "        pass\n",
    "\n",
    "field_matrix = field_matrix.astype(int)\n",
    "field_matrix = np.divide(field_matrix, np.sum(field_matrix))\n",
    "\n",
    "degree_matrix = np.divide(degree_matrix, np.sum(degree_matrix))"
   ],
   "metadata": {
    "collapsed": false,
    "pycharm": {
     "name": "#%%\n"
    }
   }
  },
  {
   "cell_type": "code",
   "execution_count": 8,
   "outputs": [],
   "source": [
    "r_field = (np.trace(field_matrix) - np.sum(field_matrix**2))/(1-np.sum(field_matrix**2))\n",
    "r_degree = (np.trace(degree_matrix) - np.sum(degree_matrix**2))/(1-np.sum(degree_matrix**2))"
   ],
   "metadata": {
    "collapsed": false,
    "pycharm": {
     "name": "#%%\n"
    }
   }
  },
  {
   "cell_type": "code",
   "execution_count": 9,
   "outputs": [
    {
     "name": "stdout",
     "output_type": "stream",
     "text": [
      "Assortativity coefficient for field:  0.432\n",
      "Assortativity coefficient for degree:  0.473\n"
     ]
    }
   ],
   "source": [
    "print(\"Assortativity coefficient for field: \", round(r_field, 3))\n",
    "print(\"Assortativity coefficient for degree: \", round(r_degree, 3))\n"
   ],
   "metadata": {
    "collapsed": false,
    "pycharm": {
     "name": "#%%\n"
    }
   }
  },
  {
   "cell_type": "markdown",
   "source": [
    "* Compute the assortativity coefficient with respect to author's field. How do you interpret the value you obtain?\n",
    "    The assortativity coeeficient with respect to the author's field gives a value of 0.43, meaning that there is a tendency in the graph to connect to other people of the same field. This means that authors who study in the same field are more likely to collaborate on a paper, which makes sense\n",
    "* Is the graph assortative with respect to the degree? (e.g. do high-degree scientists tend to link to other high-degree scientists, and low-degree scientists to other low-degree scientists?). Provide an interpretation of your answer.\n",
    "    When computed with respect to degree, the assortativity coefficient is actually a bit higher at 0.47. This means that there is a clear tendency in the graph for scientists who have done a lot of collaborations, to collaborate with others that also have many collaborations. An explaination for this could be that it is seen as a desirable thing to have done many collaborations, perhaps as mark of approval that this person is both great in their field and also good at collaborating. This way a sort of self reinforcing system is created, where high degree authors are seen as more desirable, and therefore get more opportunities for collaborations."
   ],
   "metadata": {
    "collapsed": false,
    "pycharm": {
     "name": "#%% md\n"
    }
   }
  },
  {
   "cell_type": "markdown",
   "source": [],
   "metadata": {
    "collapsed": false,
    "pycharm": {
     "name": "#%% md\n"
    }
   }
  },
  {
   "cell_type": "markdown",
   "source": [
    "**Part 2: Communities**"
   ],
   "metadata": {
    "collapsed": false,
    "pycharm": {
     "name": "#%% md\n"
    }
   }
  },
  {
   "cell_type": "code",
   "execution_count": 10,
   "outputs": [],
   "source": [
    "# imports\n",
    "from netwulf.interactive import visualize"
   ],
   "metadata": {
    "collapsed": false,
    "pycharm": {
     "name": "#%%\n"
    }
   }
  },
  {
   "cell_type": "code",
   "execution_count": 10,
   "outputs": [],
   "source": [],
   "metadata": {
    "collapsed": false,
    "pycharm": {
     "name": "#%%\n"
    }
   }
  },
  {
   "cell_type": "markdown",
   "source": [
    "# Part 3: TF-IDF\n"
   ],
   "metadata": {
    "collapsed": false,
    "pycharm": {
     "name": "#%% md\n"
    }
   }
  },
  {
   "cell_type": "code",
   "execution_count": 86,
   "outputs": [],
   "source": [
    "def literal_return(val):\n",
    "    try:\n",
    "        return ast.literal_eval(val)\n",
    "    except (ValueError, SyntaxError) as e:\n",
    "        return val"
   ],
   "metadata": {
    "collapsed": false,
    "pycharm": {
     "name": "#%%\n"
    }
   }
  },
  {
   "cell_type": "code",
   "execution_count": 87,
   "outputs": [],
   "source": [
    "tf_idf_data = pd.read_csv(\"data/TF_IDF_DATA.csv\")\n",
    "tokenized_abstract = pd.read_csv(\"data/tokenized_abstract.csv\")\n",
    "tokenized_abstract['tokens'] = tokenized_abstract['tokens'].apply(literal_return)\n",
    "css_papers = pd.read_csv(\"data/css_papers.csv\")\n",
    "css_papers['authorIds'] = css_papers['authorIds'].apply(literal_return)\n",
    "sorted_data = tf_idf_data.sort_values('Community', axis='index')"
   ],
   "metadata": {
    "collapsed": false,
    "pycharm": {
     "name": "#%%\n"
    }
   }
  },
  {
   "cell_type": "code",
   "execution_count": 88,
   "outputs": [
    {
     "name": "stdout",
     "output_type": "stream",
     "text": [
      "3339 out of 4915 have tokenized abstracts.\n"
     ]
    }
   ],
   "source": [
    "has_tokenized_abstract = [paperId in tokenized_abstract['paper_id'].tolist() for paperId in css_papers['paperId']]\n",
    "print(f'{sum(has_tokenized_abstract)} out of {len(css_papers)} have tokenized abstracts.')"
   ],
   "metadata": {
    "collapsed": false,
    "pycharm": {
     "name": "#%%\n"
    }
   }
  },
  {
   "cell_type": "code",
   "execution_count": 89,
   "outputs": [],
   "source": [
    "css_papers['has_tokenized_abstract'] = has_tokenized_abstract"
   ],
   "metadata": {
    "collapsed": false,
    "pycharm": {
     "name": "#%%\n"
    }
   }
  },
  {
   "cell_type": "code",
   "execution_count": 15,
   "outputs": [],
   "source": [
    "authors_list = css_papers[css_papers['has_tokenized_abstract']]['authorIds'].tolist()\n",
    "papers_list = css_papers[css_papers['has_tokenized_abstract']]['paperId'].tolist()\n",
    "for authors in authors_list:\n",
    "    for i in range(len(authors)):\n",
    "        if authors[i] is not None:\n",
    "            authors[i] = int(authors[i][1:-1])"
   ],
   "metadata": {
    "collapsed": false,
    "pycharm": {
     "name": "#%%\n"
    }
   }
  },
  {
   "cell_type": "code",
   "execution_count": 16,
   "outputs": [],
   "source": [
    "MAX_COMMUNITY = max(tf_idf_data['Community'])\n",
    "authors_by_community = {}\n",
    "for i in range(MAX_COMMUNITY):\n",
    "    authors = tf_idf_data[tf_idf_data['Community'] == i]['Unnamed: 0'].tolist()\n",
    "    degrees = tf_idf_data[tf_idf_data['Community'] == i]['Degree'].tolist()\n",
    "    authors_by_community[i] = {'Authors': authors, 'Degree': degrees}"
   ],
   "metadata": {
    "collapsed": false,
    "pycharm": {
     "name": "#%%\n"
    }
   }
  },
  {
   "cell_type": "code",
   "execution_count": 90,
   "outputs": [
    {
     "name": "stderr",
     "output_type": "stream",
     "text": [
      "100%|██████████| 1418/1418 [16:33<00:00,  1.43it/s] \n"
     ]
    }
   ],
   "source": [
    "for key in tqdm(authors_by_community.keys()):\n",
    "    paper_id_list = []\n",
    "    for author in authors_by_community[key]['Authors']:\n",
    "        for _, row in css_papers[css_papers['has_tokenized_abstract']].iterrows():\n",
    "            if str(author) in row['authorIds'] or author in row['authorIds'] or \"'\" + str(author) + \"'\" in  row['authorIds']:\n",
    "                paper_to_append = row['paperId']\n",
    "                if paper_to_append not in paper_id_list:\n",
    "                    paper_id_list.append(paper_to_append)\n",
    "    authors_by_community[key]['Papers'] = paper_id_list"
   ],
   "metadata": {
    "collapsed": false,
    "pycharm": {
     "name": "#%%\n"
    }
   }
  },
  {
   "cell_type": "code",
   "execution_count": 147,
   "outputs": [],
   "source": [
    "for key in authors_by_community.keys():\n",
    "    paper_list = []\n",
    "    abstract_list = []\n",
    "    for paper in authors_by_community[key]['Papers']:\n",
    "        if paper in css_papers[css_papers['has_tokenized_abstract']]['paperId'].tolist():\n",
    "            paper_list.append(paper)\n",
    "            abstract_list.append(tokenized_abstract[tokenized_abstract['paper_id']==paper]['tokens'].tolist()[0])\n",
    "    authors_by_community[key]['Papers'] = paper_list\n",
    "    authors_by_community[key]['Tokens'] = abstract_list"
   ],
   "metadata": {
    "collapsed": false,
    "pycharm": {
     "name": "#%%\n"
    }
   }
  },
  {
   "cell_type": "code",
   "execution_count": 148,
   "outputs": [],
   "source": [
    "for key in authors_by_community.keys():\n",
    "    if authors_by_community[key]['Tokens']:\n",
    "        authors_by_community[key]['Concatenated_tokens'] = np.concatenate(authors_by_community[key]['Tokens'])"
   ],
   "metadata": {
    "collapsed": false,
    "pycharm": {
     "name": "#%%\n"
    }
   }
  },
  {
   "cell_type": "code",
   "execution_count": 156,
   "outputs": [
    {
     "data": {
      "text/plain": "[4, 9, 30, 0, 57]"
     },
     "execution_count": 156,
     "metadata": {},
     "output_type": "execute_result"
    }
   ],
   "source": [
    "top5 = sorted([(i, len(authors_by_community[i]['Authors'])) for i in authors_by_community.keys()], key=lambda x: x[1], reverse=True)[:5]\n",
    "top5 = [top5[i][0] for i in range(len(top5))]\n",
    "top5"
   ],
   "metadata": {
    "collapsed": false,
    "pycharm": {
     "name": "#%%\n"
    }
   }
  },
  {
   "cell_type": "code",
   "execution_count": 173,
   "outputs": [],
   "source": [
    "def term_frequency(top):\n",
    "    top_tf_dict = {}\n",
    "    for t in top:\n",
    "        internal_tf_dict = {}\n",
    "        document = authors_by_community[t]['Concatenated_tokens']\n",
    "        unique_terms = set(document)\n",
    "        N = len(unique_terms)\n",
    "        for term in unique_terms:\n",
    "            # print(term)\n",
    "            count = np.count_nonzero(document == term)\n",
    "            # print(count)\n",
    "            tf = count/N\n",
    "            internal_tf_dict[term] = tf\n",
    "        top_tf_dict[t] = internal_tf_dict\n",
    "    return top_tf_dict\n",
    "tf_dict = term_frequency(top5)"
   ],
   "metadata": {
    "collapsed": false,
    "pycharm": {
     "name": "#%%\n"
    }
   }
  },
  {
   "cell_type": "code",
   "execution_count": 186,
   "outputs": [],
   "source": [
    "top_terms = {}\n",
    "for key in top5:\n",
    "    terms = list(tf_dict[key].keys())\n",
    "    values = list(tf_dict[key].values())\n",
    "    term_values = sorted([(term, round(value, 5)) for term, value in zip(terms, values)], reverse=True, key=lambda x: x[1])\n",
    "    top_terms[key] = term_values[:5]"
   ],
   "metadata": {
    "collapsed": false,
    "pycharm": {
     "name": "#%%\n"
    }
   }
  },
  {
   "cell_type": "code",
   "execution_count": 190,
   "outputs": [
    {
     "name": "stdout",
     "output_type": "stream",
     "text": [
      "Community number 4 has top 5 terms [('network', 0.04642), ('trade', 0.03203), ('model', 0.03131), ('networks', 0.02843), ('social', 0.02195)]\n",
      "Community number 9 has top 5 terms [('social', 0.0637), ('media', 0.03718), ('online', 0.02925), ('data', 0.02734), ('research', 0.02515)]\n",
      "Community number 30 has top 5 terms [('social', 0.0416), ('data', 0.0208), ('results', 0.0132), ('online', 0.0128), ('health', 0.0124)]\n",
      "Community number 0 has top 5 terms [('research', 0.04582), ('impact', 0.03223), ('scientific', 0.03172), ('papers', 0.0287), ('science', 0.02769)]\n",
      "Community number 57 has top 5 terms [('social', 0.03771), ('online', 0.02193), ('political', 0.01962), ('health', 0.01693), ('use', 0.01654)]\n"
     ]
    }
   ],
   "source": [
    "for key in top5:\n",
    "    print(f'Community number {key} has top 5 terms {top_terms[key]}')"
   ],
   "metadata": {
    "collapsed": false,
    "pycharm": {
     "name": "#%%\n"
    }
   }
  },
  {
   "cell_type": "markdown",
   "source": [
    "* Describe similarities and differences between the communities.\n",
    "    There are some similarities in which words are appearing as top terms across the top 5 communities. For instance 'social' is a top term in 4 out of 5 of the communities, which indicates that is a word that is appearing frequently in the top terms, and that it is a common word in the realm of computational social science, which makes sense. Other words that are appearing more than once, are 'online' and 'health', which indicates what these communities are writing papers about.\n",
    "    Some differences in the terms, are for instance community number 4, which has top terms of 'network' and 'model' as the only community with these top terms. This indicates that this community might be working a lot with social networks and modelling these.\n",
    "\n",
    "* Why aren't the TFs not necessarily a good description of the communities?\n",
    "    Term frequency can only tell us how often a term is occurring in relation to the length of the document. It might be that some of these communities have a lot higher research output than others, diluting the tf value of the term simply because of a larger number of terms in total."
   ],
   "metadata": {
    "collapsed": false,
    "pycharm": {
     "name": "#%% md\n"
    }
   }
  },
  {
   "cell_type": "code",
   "execution_count": 213,
   "outputs": [],
   "source": [
    "def idf(top):\n",
    "    top_idf_dict = {}\n",
    "    for t in top:\n",
    "        internal_idf_dict = {}\n",
    "        n_docs = len(authors_by_community[t]['Tokens'])\n",
    "        document = authors_by_community[t]['Concatenated_tokens']\n",
    "        unique_terms = set(document)\n",
    "        for term in unique_terms:\n",
    "            count = 0\n",
    "            for j in range(n_docs):\n",
    "                if term in authors_by_community[t]['Tokens'][j]:\n",
    "                    count += j\n",
    "            val = n_docs / count if count > 0 else 1\n",
    "            internal_idf_dict[term] = np.log(val) if np.log(val) > 0 else 0\n",
    "        top_idf_dict[t] = internal_idf_dict\n",
    "    return top_idf_dict\n",
    "top_idf = idf(top5)"
   ],
   "metadata": {
    "collapsed": false,
    "pycharm": {
     "name": "#%%\n"
    }
   }
  },
  {
   "cell_type": "markdown",
   "source": [
    "* What base logarithm did you use? Is that important?\n",
    "    The base used is the natural logarithm, although the base it not that significant, as all the values are calculated using the same base, and thus their relation to each other remains the same. It should be noted that a lower base will give a larger idf score, which is something to keep in mind."
   ],
   "metadata": {
    "collapsed": false,
    "pycharm": {
     "name": "#%% md\n"
    }
   }
  },
  {
   "cell_type": "code",
   "execution_count": null,
   "outputs": [],
   "source": [
    "top9 = sorted([(i, len(authors_by_community[i]['Authors'])) for i in authors_by_community.keys()], key=lambda x: x[1], reverse=True)[:9]\n",
    "top9 = [top9[i][0] for i in range(len(top9))]\n",
    "def tf_idf(top):\n",
    "    tf_idf_dict = {}\n",
    "    tf_dict2 = term_frequency(top)\n",
    "    idf_dict = idf(top)\n",
    "    for t in top:\n",
    "        internal_tf_idf_dict = {}\n",
    "        unique_terms = set(authors_by_community[t]['Concatenated_tokens'])\n",
    "        for term in unique_terms:\n",
    "            tf_val = tf_dict2[t][term]\n",
    "            idf_val = idf_dict[t][term]\n",
    "            tf_idf_val = tf_val*idf_val\n",
    "            internal_tf_idf_dict[term] = tf_idf_val\n",
    "        tf_idf_dict[t] = internal_tf_idf_dict\n",
    "    return tf_idf_dict\n",
    "tf_idf_values = tf_idf(top9)"
   ],
   "metadata": {
    "collapsed": false,
    "pycharm": {
     "name": "#%%\n",
     "is_executing": true
    }
   }
  },
  {
   "cell_type": "code",
   "execution_count": 223,
   "outputs": [],
   "source": [
    "top_values = {}\n",
    "for key in top9:\n",
    "    terms = list(tf_idf_values[key].keys())\n",
    "    values = list(tf_idf_values[key].values())\n",
    "    term_values = sorted([(term, round(value, 5)) for term, value in zip(terms, values)], reverse=True, key=lambda x: x[1])\n",
    "    top_values[key] = term_values[:10]"
   ],
   "metadata": {
    "collapsed": false,
    "pycharm": {
     "name": "#%%\n"
    }
   }
  },
  {
   "cell_type": "code",
   "execution_count": 298,
   "outputs": [],
   "source": [
    "top3_authors = {}\n",
    "for t in top9:\n",
    "    authors = authors_by_community[t]['Authors']\n",
    "    degrees = authors_by_community[t]['Degree']\n",
    "    val_to_append = sorted([(author, degree) for author, degree in zip(authors, degrees)], reverse=True, key=lambda x: x[1])\n",
    "    top3_authors[t] = val_to_append[:3]"
   ],
   "metadata": {
    "collapsed": false,
    "pycharm": {
     "name": "#%%\n"
    }
   }
  },
  {
   "cell_type": "code",
   "execution_count": 309,
   "outputs": [],
   "source": [
    "author_df = pd.read_csv(\"data/dataset_author.csv\")\n",
    "for t in top9:\n",
    "    for i in range(len(top3_authors[t])):\n",
    "        author_id = top3_authors[t][i][0]\n",
    "        degree = top3_authors[t][i][1]\n",
    "        name = None\n",
    "        for _, row in author_df.iterrows():\n",
    "            if str(row['authorId']) == str(author_id):\n",
    "                name = row['name']\n",
    "                break\n",
    "        top3_authors[t][i] = (name, degree)"
   ],
   "metadata": {
    "collapsed": false,
    "pycharm": {
     "name": "#%%\n"
    }
   }
  },
  {
   "cell_type": "code",
   "execution_count": 314,
   "outputs": [
    {
     "name": "stdout",
     "output_type": "stream",
     "text": [
      "Community number 4 has top 10 terms\n",
      "[('search', 0.0021), ('capm', 0.00179), ('fiscal', 0.00154), ('municipalities', 0.00154), ('stronger', 0.00154), ('actions', 0.0014), ('www', 0.0014), ('submitted', 0.0014), ('queries', 0.0014), ('engine', 0.0014)]\n",
      "and top 3 authors [('G. Caldarelli', 36), ('S. Battiston', 31), ('T. Squartini', 25)]\n",
      "\n",
      "Community number 9 has top 10 terms\n",
      "[('choice', 0.00385), ('parenting', 0.00312), ('tie', 0.00253), ('mothers', 0.00178), ('fathers', 0.00178), ('russian', 0.00158), ('overload', 0.00154), ('citation', 0.00139), ('/b/', 0.00136), ('e-commerce', 0.00115)]\n",
      "and top 3 authors [('Brian Keegan', 26), ('A. Monroy-Hernández', 18), ('M. Choudhury', 18)]\n",
      "\n",
      "Community number 30 has top 10 terms\n",
      "[('outcomes', 0.00671), ('housing', 0.0035), ('months', 0.0027), ('sexual', 0.00252), ('prices', 0.00252), ('ai', 0.00237), ('pushed', 0.0021), ('away', 0.0021), ('disaster', 0.00194), ('accuracy', 0.00183)]\n",
      "and top 3 authors [('Manuel Cebrian', 28), ('Mark Dredze', 20), ('J. Fowler', 16)]\n",
      "\n",
      "Community number 0 has top 10 terms\n",
      "[('h-index', 0.00719), ('management', 0.00193), ('way', 0.0018), ('qualitative', 0.00178), ('property', 0.00149), ('insensitivity', 0.00149), ('properties', 0.00149), ('megajournals', 0.00143), ('tool', 0.00132), ('presented', 0.00132)]\n",
      "and top 3 authors [('C. Sugimoto', 43), ('S. Haustein', 16), ('Nees Jan van Eck', 15)]\n",
      "\n",
      "Community number 57 has top 10 terms\n",
      "[('conference', 0.00458), ('submissions', 0.00356), ('accepted', 0.00356), ('program', 0.00203), ('posters', 0.00203), ('bias', 0.00197), ('wikimedia', 0.00173), ('women', 0.00157), ('poster', 0.00153), ('reviews', 0.00147)]\n",
      "and top 3 authors [('M. Strohmaier', 20), ('Emiliano De Cristofaro', 12), ('J. C. Losada', 11)]\n",
      "\n",
      "Community number 37 has top 10 terms\n",
      "[('vaccination', 0.00923), ('framing', 0.00693), ('frame', 0.00347), ('news', 0.00347), ('violence', 0.0022), ('processes', 0.00176), ('overall', 0.00176), ('homophily', 0.00176), ('events', 0.00173), ('frames', 0.00173)]\n",
      "and top 3 authors [('D. Helbing', 28), ('A. Barabasi', 19), ('Stanislav Sobolevsky', 13)]\n",
      "\n",
      "Community number 26 has top 10 terms\n",
      "[('hawkes', 0.00247), ('clusters', 0.00244), ('complexity', 0.00198), ('nonlinear', 0.00195), ('mask', 0.00182), ('analogy', 0.0016), ('brownian', 0.0016), ('exchange', 0.0016), ('wta', 0.00149), ('lda', 0.00142)]\n",
      "and top 3 authors [('N. Perra', 20), ('A. Vespignani', 16), ('D. Sornette', 14)]\n",
      "\n",
      "Community number 43 has top 10 terms\n",
      "[('geolocated', 0.00337), ('echo', 0.00297), ('discourse', 0.00253), ('chambers', 0.00247), ('migration', 0.00233), ('linkedin', 0.00207), ('internal', 0.00169), ('rates', 0.00169), ('donation', 0.00169), ('single', 0.00169)]\n",
      "and top 3 authors [('D. Quercia', 21), ('V. Latora', 16), ('Venkata Rama Kiran Garimella', 11)]\n",
      "\n",
      "Community number 13 has top 10 terms\n",
      "[('reading', 0.00432), ('story‐focused', 0.0027), ('ipv', 0.00248), ('workers', 0.00209), ('wikipedia', 0.002), ('abortion', 0.00197), ('birth', 0.00195), ('essential', 0.00174), ('credit', 0.00173), ('ips', 0.00149)]\n",
      "and top 3 authors [('D. Watts', 18), ('K. Levy', 15), ('Sharad Goel', 14)]\n",
      "\n"
     ]
    }
   ],
   "source": [
    "for key in top9:\n",
    "    print(f'Community number {key} has top 10 terms\\n{top_values[key]}\\nand top 3 authors {top3_authors[key]}\\n')"
   ],
   "metadata": {
    "collapsed": false,
    "pycharm": {
     "name": "#%%\n"
    }
   }
  },
  {
   "cell_type": "markdown",
   "source": [
    "* Are these 10 words more descriptive of the community? If yes, what is it about IDF that makes the words more informative?\n",
    "    The 10 words with the highest TF-IDF value are somewhat more descriptive of the communities. For instance community number 4 has the term fiscal and municipalities, indicating that the community works with some kind of financial data. Community 9 has words like parenting, mothers and fathers, indicating something to do with parenting. We also see a wider variety of words, which could mean that the community is working with more different things, than the rather generic words that was captured by the TF value. The reason for these words being more informative, is that TF-IDF both captures the overall importance of a word and its importance across all the documents."
   ],
   "metadata": {
    "collapsed": false,
    "pycharm": {
     "name": "#%% md\n"
    }
   }
  }
 ],
 "metadata": {
  "kernelspec": {
   "display_name": "Python 3",
   "language": "python",
   "name": "python3"
  },
  "language_info": {
   "codemirror_mode": {
    "name": "ipython",
    "version": 2
   },
   "file_extension": ".py",
   "mimetype": "text/x-python",
   "name": "python",
   "nbconvert_exporter": "python",
   "pygments_lexer": "ipython2",
   "version": "2.7.6"
  }
 },
 "nbformat": 4,
 "nbformat_minor": 0
}