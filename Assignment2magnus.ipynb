{
 "cells": [
  {
   "cell_type": "markdown",
   "source": [
    "***Assignment 2***\n",
    "by Magnus A. Nielsen (s204072) & Philip J. F. Helsted (s204147)\n",
    "GitHub:\n",
    "**Contribution statement**\n",
    "all work has been done cooperatively"
   ],
   "metadata": {
    "collapsed": false,
    "pycharm": {
     "name": "#%% md\n"
    }
   }
  },
  {
   "cell_type": "code",
   "execution_count": 37,
   "outputs": [],
   "source": [
    "# imports\n",
    "import numpy as np\n",
    "import pandas as pd\n",
    "import networkx as nx\n",
    "import encoding"
   ],
   "metadata": {
    "collapsed": false,
    "pycharm": {
     "name": "#%%\n"
    }
   }
  },
  {
   "cell_type": "code",
   "execution_count": 38,
   "outputs": [],
   "source": [
    "# Loading graph from week4\n",
    "css_graph = encoding.read_json_file(\"data/graph.json\")\n",
    "\n",
    "# Setting random seed\n",
    "np.random.seed(79)"
   ],
   "metadata": {
    "collapsed": false,
    "pycharm": {
     "name": "#%%\n"
    }
   }
  },
  {
   "cell_type": "markdown",
   "source": [
    "**Exercise 1**\n",
    "Mixing Patterns and Assortativity"
   ],
   "metadata": {
    "collapsed": false,
    "pycharm": {
     "name": "#%% md\n"
    }
   }
  },
  {
   "cell_type": "code",
   "execution_count": 39,
   "outputs": [
    {
     "name": "stdout",
     "output_type": "stream",
     "text": [
      "0.21465140738302269\n"
     ]
    }
   ],
   "source": [
    "# For each node, compute the fraction of edges that connect to a node that works in the same top field. Find the average value across all nodes.\n",
    "avg = []\n",
    "for node in css_graph.nodes:\n",
    "    frac = 0\n",
    "    n_neighbours = 0\n",
    "    for neighbour in nx.neighbors(css_graph, node):\n",
    "        n_neighbours += 1\n",
    "        try:\n",
    "            if css_graph.nodes[node]['top_field'] == css_graph.nodes[neighbour]['top_field']:\n",
    "                frac += 1\n",
    "        except KeyError:\n",
    "            pass\n",
    "    avg.append(frac/n_neighbours)\n",
    "avg = np.mean(avg)\n",
    "print(avg)"
   ],
   "metadata": {
    "collapsed": false,
    "pycharm": {
     "name": "#%%\n"
    }
   }
  },
  {
   "cell_type": "code",
   "execution_count": 44,
   "outputs": [
    {
     "data": {
      "text/plain": "5652"
     },
     "execution_count": 44,
     "metadata": {},
     "output_type": "execute_result"
    }
   ],
   "source": [
    "# Create a new graph, with the same nodes and edges, but where the association between nodes and field is shuffled.\n",
    "# Compute the measure above for this randomized graph.\n"
   ],
   "metadata": {
    "collapsed": false,
    "pycharm": {
     "name": "#%%\n"
    }
   }
  }
 ],
 "metadata": {
  "kernelspec": {
   "display_name": "Python 3",
   "language": "python",
   "name": "python3"
  },
  "language_info": {
   "codemirror_mode": {
    "name": "ipython",
    "version": 2
   },
   "file_extension": ".py",
   "mimetype": "text/x-python",
   "name": "python",
   "nbconvert_exporter": "python",
   "pygments_lexer": "ipython2",
   "version": "2.7.6"
  }
 },
 "nbformat": 4,
 "nbformat_minor": 0
}