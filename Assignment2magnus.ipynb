{
 "cells": [
  {
   "cell_type": "markdown",
   "source": [
    "***Assignment 2***\n",
    "by Magnus A. Nielsen (s204072) & Philip J. F. Helsted (s204147)\n",
    "GitHub:\n",
    "**Contribution statement**\n",
    "all work has been done cooperatively"
   ],
   "metadata": {
    "collapsed": false,
    "pycharm": {
     "name": "#%% md\n"
    }
   }
  },
  {
   "cell_type": "code",
   "execution_count": null,
   "outputs": [],
   "source": [
    "# imports\n",
    "import numpy as np\n",
    "import pandas as pd\n",
    "import networkx as nx\n",
    "import css_utils"
   ],
   "metadata": {
    "collapsed": false,
    "pycharm": {
     "name": "#%%\n"
    }
   }
  },
  {
   "cell_type": "code",
   "execution_count": null,
   "outputs": [],
   "source": [
    "# Loading graph from week4\n",
    "css_graph = css_utils.read_json_file(\"data/graph.json\")\n",
    "\n",
    "# Setting random seed\n",
    "np.random.seed(79)"
   ],
   "metadata": {
    "collapsed": false,
    "pycharm": {
     "name": "#%%\n"
    }
   }
  },
  {
   "cell_type": "markdown",
   "source": [
    "**Exercise 1**\n",
    "Mixing Patterns and Assortativity"
   ],
   "metadata": {
    "collapsed": false,
    "pycharm": {
     "name": "#%% md\n"
    }
   }
  },
  {
   "cell_type": "code",
   "execution_count": null,
   "outputs": [],
   "source": [
    "# Removing nodes with no top_field\n",
    "for author in list(css_graph.nodes):\n",
    "    css_utils.remove_node_if_no_field(css_graph, author)"
   ],
   "metadata": {
    "collapsed": false,
    "pycharm": {
     "name": "#%%\n"
    }
   }
  },
  {
   "cell_type": "code",
   "execution_count": null,
   "outputs": [],
   "source": [
    "# For each node, compute the fraction of edges that connect to a node that works in the same top field. Find the average value across all nodes.\n",
    "top_field_frac = np.mean([css_utils.edge_same_top_field(edge, css_graph) for edge in list(css_graph.edges)])\n",
    "top_field_frac"
   ],
   "metadata": {
    "collapsed": false,
    "pycharm": {
     "name": "#%%\n"
    }
   }
  },
  {
   "cell_type": "code",
   "execution_count": 60,
   "outputs": [
    {
     "data": {
      "text/plain": "0.5105415002219263"
     },
     "execution_count": 60,
     "metadata": {},
     "output_type": "execute_result"
    }
   ],
   "source": [
    "# For each node, compute the fraction of edges that connect to a node that works in the same top field. Find the average value across all nodes.\n",
    "top_field_frac = np.mean([css_utils.edge_same_top_field(edge, css_graph) for edge in list(css_graph.edges)])\n",
    "top_field_frac"
   ],
   "metadata": {
    "collapsed": false,
    "pycharm": {
     "name": "#%%\n"
    }
   }
  },
  {
   "cell_type": "code",
   "execution_count": null,
   "outputs": [],
   "source": [
    "# Create a new graph, with the same nodes and edges, but where the association between nodes and field is shuffled.\n",
    "# Compute the measure above for this randomized graph.\n"
   ],
   "metadata": {
    "collapsed": false,
    "pycharm": {
     "name": "#%%\n"
    }
   }
  }
 ],
 "metadata": {
  "kernelspec": {
   "display_name": "Python 3",
   "language": "python",
   "name": "python3"
  },
  "language_info": {
   "codemirror_mode": {
    "name": "ipython",
    "version": 2
   },
   "file_extension": ".py",
   "mimetype": "text/x-python",
   "name": "python",
   "nbconvert_exporter": "python",
   "pygments_lexer": "ipython2",
   "version": "2.7.6"
  }
 },
 "nbformat": 4,
 "nbformat_minor": 0
}