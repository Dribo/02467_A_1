{
 "cells": [
  {
   "cell_type": "markdown",
   "source": [
    "**Computational Social Science**\n",
    "*Assignment 1*\n",
    "Link to github:\n",
    "\n",
    "*Contribution statement*\n",
    "All the exercises have been completed in cooperation, where we have worked to complete one assignment before moving on to the next."
   ],
   "metadata": {
    "collapsed": false,
    "pycharm": {
     "name": "#%% md\n"
    }
   }
  },
  {
   "cell_type": "markdown",
   "source": [
    "**Part 1: Using web-scraping to gather data**\n",
    "The following cells contain the code for solve part 1 of the exercise"
   ],
   "metadata": {
    "collapsed": false,
    "pycharm": {
     "name": "#%% md\n"
    }
   }
  },
  {
   "cell_type": "code",
   "execution_count": 4,
   "metadata": {
    "collapsed": true,
    "pycharm": {
     "name": "#%%\n"
    }
   },
   "outputs": [],
   "source": [
    "# Imports\n",
    "from bs4 import BeautifulSoup\n",
    "import requests\n",
    "import re"
   ]
  },
  {
   "cell_type": "code",
   "execution_count": 5,
   "outputs": [
    {
     "name": "stderr",
     "output_type": "stream",
     "text": [
      "G:\\anaconda3\\envs\\02467 - css\\lib\\site-packages\\urllib3\\connectionpool.py:1045: InsecureRequestWarning: Unverified HTTPS request is being made to host '2019.ic2s2.org'. Adding certificate verification is strongly advised. See: https://urllib3.readthedocs.io/en/1.26.x/advanced-usage.html#ssl-warnings\n",
      "  warnings.warn(\n"
     ]
    }
   ],
   "source": [
    "requests.packages.urllib3.util.ssl_.DEFAULT_CIPHERS += 'HIGH:!DH:!aNULL'\n",
    "try:\n",
    "    requests.packages.urllib3.contrib.pyopenssl.DEFAULT_SSL_CIPHER_LIST += 'HIGH:!DH:!aNULL'\n",
    "except AttributeError:\n",
    "    # no pyopenssl support used / needed / available\n",
    "    pass\n",
    "\n",
    "# Getting the web-page\n",
    "link19oral = \"https://2019.ic2s2.org/oral-presentations/\"\n",
    "link19post = \"https://2019.ic2s2.org/posters/\"\n",
    "r = requests.get(link19oral, verify=False)\n",
    "soup = BeautifulSoup(r.content)\n",
    "div = soup.find(\"div\", {\"class\":\"col-md-8\"})\n",
    "ps = div.findAll('p')\n",
    "relevant = ps[3:]"
   ],
   "metadata": {
    "collapsed": false,
    "pycharm": {
     "name": "#%%\n"
    }
   }
  },
  {
   "cell_type": "code",
   "execution_count": 6,
   "outputs": [],
   "source": [
    "# Creating regex for filtering out names on the web-page for oral presentations\n",
    "regex1 = r\" ([a-zA-ZÀ-ÿ]* ([A-Z]. )+[a-zA-ZÀ-ÿ]+[.,])\"\n",
    "regex2 = r\" ([a-zA-ZÀ-ÿ]* [a-zA-ZÀ-ÿ]+[.,])\"\n",
    "names = []\n",
    "names1 = []\n",
    "for r in relevant:\n",
    "    retrieved = re.findall(regex1, str(r), re.UNICODE)\n",
    "    names += retrieved\n",
    "\n",
    "for i in range(len(names)):\n",
    "    names[i] = names[i][0][:-1]\n",
    "\n",
    "for r in relevant:\n",
    "    retrieved = re.findall(regex2, str(r), re.UNICODE)\n",
    "    names1 += retrieved\n",
    "\n",
    "for i in range(len(names1)):\n",
    "    names1[i] = names1[i][:-1]\n",
    "\n",
    "names += names1\n",
    "list_of_presenters = names"
   ],
   "metadata": {
    "collapsed": false,
    "pycharm": {
     "name": "#%%\n"
    }
   }
  },
  {
   "cell_type": "code",
   "execution_count": 7,
   "outputs": [
    {
     "name": "stderr",
     "output_type": "stream",
     "text": [
      "G:\\anaconda3\\envs\\02467 - css\\lib\\site-packages\\urllib3\\connectionpool.py:1045: InsecureRequestWarning: Unverified HTTPS request is being made to host '2019.ic2s2.org'. Adding certificate verification is strongly advised. See: https://urllib3.readthedocs.io/en/1.26.x/advanced-usage.html#ssl-warnings\n",
      "  warnings.warn(\n"
     ]
    }
   ],
   "source": [
    "# Getting the web-page for the posters\n",
    "r = requests.get(link19post, verify=False)\n",
    "soup = BeautifulSoup(r.content)\n",
    "uls = soup.findAll('ul')\n",
    "r1 = list(uls)[6]\n",
    "r2 = list(uls)[7]\n",
    "\n",
    "relevant1 = []\n",
    "relevant2 = []\n",
    "\n",
    "for x in list(r1):\n",
    "    if x != '\\n':\n",
    "        relevant1.append(x)\n",
    "for x in list(r2):\n",
    "    if x != '\\n':\n",
    "        relevant2.append(x)"
   ],
   "metadata": {
    "collapsed": false,
    "pycharm": {
     "name": "#%%\n"
    }
   }
  },
  {
   "cell_type": "code",
   "execution_count": 9,
   "outputs": [
    {
     "data": {
      "text/plain": "613"
     },
     "execution_count": 9,
     "metadata": {},
     "output_type": "execute_result"
    }
   ],
   "source": [
    "# Regex for filtering of posters\n",
    "regex1 = r\"<li>[a-zA-Z ]*<span>\"\n",
    "names = []\n",
    "names1 = []\n",
    "names2 = []\n",
    "names3 = []\n",
    "for r in relevant1:\n",
    "    retrieved = re.findall(regex1, str(r), re.UNICODE)\n",
    "    names += retrieved\n",
    "\n",
    "for i in range(len(names)):\n",
    "    names[i] = names[i][4:-6]\n",
    "    names[i] = names[i].split(' and ')\n",
    "    for j in range(len(names[i])):\n",
    "        names1 += [names[i].pop(0)]\n",
    "\n",
    "for r in relevant2:\n",
    "    retrieved = re.findall(regex1, str(r), re.UNICODE)\n",
    "    names2 += retrieved\n",
    "\n",
    "for i in range(len(names2)):\n",
    "    names2[i] = names2[i][4:-6]\n",
    "    names2[i] = names2[i].split(' and ')\n",
    "    for j in range(len(names2[i])):\n",
    "        names3 += [names2[i].pop(0)]\n",
    "\n",
    "list_of_presenters += names1 + names3\n",
    "len(set(list_of_presenters))"
   ],
   "metadata": {
    "collapsed": false,
    "pycharm": {
     "name": "#%%\n"
    }
   }
  },
  {
   "cell_type": "markdown",
   "source": [],
   "metadata": {
    "collapsed": false,
    "pycharm": {
     "name": "#%% md\n"
    }
   }
  },
  {
   "cell_type": "code",
   "execution_count": 8,
   "outputs": [],
   "source": [],
   "metadata": {
    "collapsed": false,
    "pycharm": {
     "name": "#%%\n"
    }
   }
  }
 ],
 "metadata": {
  "kernelspec": {
   "display_name": "Python 3",
   "language": "python",
   "name": "python3"
  },
  "language_info": {
   "codemirror_mode": {
    "name": "ipython",
    "version": 2
   },
   "file_extension": ".py",
   "mimetype": "text/x-python",
   "name": "python",
   "nbconvert_exporter": "python",
   "pygments_lexer": "ipython2",
   "version": "2.7.6"
  }
 },
 "nbformat": 4,
 "nbformat_minor": 0
}