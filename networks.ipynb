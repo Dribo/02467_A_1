{
 "cells": [
  {
   "cell_type": "code",
   "execution_count": 57,
   "metadata": {
    "collapsed": true
   },
   "outputs": [],
   "source": [
    "import pandas as pd\n",
    "import numpy as np\n",
    "import networkx as nx"
   ]
  },
  {
   "cell_type": "code",
   "execution_count": 58,
   "outputs": [],
   "source": [
    "# Create graph\n",
    "G = nx.Graph()\n",
    "# Add nodes one at a time or in lists\n",
    "G.add_node(1)\n",
    "G.add_nodes_from([2, 3])\n",
    "# Add nodes with attributes by following this formula\n",
    "G.add_nodes_from([\n",
    "    (4, {\"color\": \"red\"}),\n",
    "    (5, {\"color\": \"green\"})])\n",
    "\n",
    "# Add nodes from one graph to another\n",
    "H = nx.path_graph(10)\n",
    "G.add_nodes_from(H)\n",
    "# Can also add a graph as a node\n",
    "G.add_node(H)"
   ],
   "metadata": {
    "collapsed": false
   }
  },
  {
   "cell_type": "code",
   "execution_count": 59,
   "outputs": [],
   "source": [
    "# Edges can be added one at a time\n",
    "G.add_edge(1, 2)\n",
    "e = (2, 3)\n",
    "G.add_edge(*e)  # unpack edge tuple\n",
    "# or in lists\n",
    "G.add_edges_from([(1, 2), (1, 3)])\n",
    "# or from other graphs\n",
    "G.add_edges_from(H.edges)\n",
    "# Clear graphs\n",
    "G.clear()\n",
    "# Doesn't care whether edges are already present\n",
    "G.add_edges_from([(1, 2), (1, 3)])\n",
    "G.add_node(1)\n",
    "G.add_edge(1, 2)\n",
    "G.add_node(\"spam\")        # adds node \"spam\"\n",
    "G.add_nodes_from(\"spam\")  # adds 4 nodes: 's', 'p', 'a', 'm'\n",
    "G.add_edge(3, 'm')"
   ],
   "metadata": {
    "collapsed": false
   }
  },
  {
   "cell_type": "code",
   "execution_count": 60,
   "outputs": [
    {
     "name": "stdout",
     "output_type": "stream",
     "text": [
      "8 \n",
      "3\n"
     ]
    }
   ],
   "source": [
    "# Number of edges and nodes can be checked\n",
    "print(G.number_of_nodes(),\"\\n\"+str(G.number_of_edges()))"
   ],
   "metadata": {
    "collapsed": false
   }
  },
  {
   "cell_type": "code",
   "execution_count": 61,
   "outputs": [
    {
     "name": "stdout",
     "output_type": "stream",
     "text": [
      "[1, 2, 3, 'spam', 's', 'p', 'a', 'm']\n",
      "[(1, 2), (1, 3), (3, 'm')]\n",
      "[2, 3]\n",
      "2\n"
     ]
    }
   ],
   "source": [
    "# Examining nodes and edges\n",
    "# Four basic properties\n",
    "# See the nodes\n",
    "print(list(G.nodes))\n",
    "# Edges\n",
    "print(list(G.edges))\n",
    "# Adjacency/Neighbours\n",
    "print(list(G.adj[1]))\n",
    "# Degree: Number of edges incident to the called node\n",
    "print(G.degree[1])"
   ],
   "metadata": {
    "collapsed": false
   }
  },
  {
   "cell_type": "code",
   "execution_count": 64,
   "outputs": [
    {
     "name": "stdout",
     "output_type": "stream",
     "text": [
      "[(1, 2), (2, 1)]\n",
      "[(0, 1), (1, 2), (2, 3)]\n",
      "[(0, 1), (0, 2), (1, 2)]\n"
     ]
    }
   ],
   "source": [
    "G = nx.Graph()\n",
    "# Different ways to create graphs\n",
    "G.add_edge(1, 2)\n",
    "H = nx.DiGraph(G)  # create a DiGraph using the connections from G\n",
    "print(list(H.edges()))\n",
    "edgelist = [(0, 1), (1, 2), (2, 3)]\n",
    "H = nx.Graph(edgelist)  # create a graph from an edge list\n",
    "print(list(H.edges()))\n",
    "adjacency_dict = {0: (1, 2), 1: (0, 2), 2: (0, 1)}\n",
    "H = nx.Graph(adjacency_dict)  # create a Graph dict mapping nodes to nbrs\n",
    "print(list(H.edges()))"
   ],
   "metadata": {
    "collapsed": false
   }
  },
  {
   "cell_type": "markdown",
   "source": [
    "Nodes can be any hashable object, except for None.\n",
    "Edges as well can be associated with any object by using G.add_edge(n1, n2, object=x)"
   ],
   "metadata": {
    "collapsed": false
   }
  },
  {
   "cell_type": "code",
   "execution_count": 66,
   "outputs": [
    {
     "name": "stdout",
     "output_type": "stream",
     "text": [
      "{2: {'color': 'yellow'}}\n",
      "{'color': 'yellow'}\n",
      "{'color': 'yellow'}\n"
     ]
    }
   ],
   "source": [
    "# Different ways to access nodes and edges\n",
    "G = nx.Graph([(1, 2, {\"color\": \"yellow\"})])\n",
    "print(G[1])  # same as G.adj[1]\n",
    "print(G[1][2])\n",
    "print(G.edges[1, 2])"
   ],
   "metadata": {
    "collapsed": false
   }
  },
  {
   "cell_type": "code",
   "execution_count": 68,
   "outputs": [
    {
     "name": "stdout",
     "output_type": "stream",
     "text": [
      "{'color': 'red'}\n"
     ]
    }
   ],
   "source": [
    "# Attributes can be added by subscript notation\n",
    "G.add_edge(1, 3)\n",
    "G[1][3]['color'] = \"blue\"\n",
    "G.edges[1, 2]['color'] = \"red\"\n",
    "print(G.edges[1, 2])"
   ],
   "metadata": {
    "collapsed": false
   }
  },
  {
   "cell_type": "code",
   "execution_count": 69,
   "outputs": [
    {
     "name": "stdout",
     "output_type": "stream",
     "text": [
      "(1, 2, 0.125)\n",
      "(2, 1, 0.125)\n",
      "(3, 4, 0.375)\n",
      "(4, 3, 0.375)\n"
     ]
    }
   ],
   "source": [
    "# A way to access nodes and adjacencies with adj.items()\n",
    "FG = nx.Graph()\n",
    "FG.add_weighted_edges_from([(1, 2, 0.125), (1, 3, 0.75), (2, 4, 1.2), (3, 4, 0.375)])\n",
    "for n, nbrs in FG.adj.items():\n",
    "   for nbr, eattr in nbrs.items():\n",
    "       wt = eattr['weight']\n",
    "       if wt < 0.5:\n",
    "           print(f\"({n}, {nbr}, {wt:.3})\")"
   ],
   "metadata": {
    "collapsed": false
   }
  },
  {
   "cell_type": "code",
   "execution_count": 70,
   "outputs": [
    {
     "name": "stdout",
     "output_type": "stream",
     "text": [
      "(1, 2, 0.125)\n",
      "(3, 4, 0.375)\n"
     ]
    }
   ],
   "source": [
    "# Convenient way to access edges\n",
    "for (u, v, wt) in FG.edges.data('weight'):\n",
    "    if wt < 0.5:\n",
    "        print(f\"({u}, {v}, {wt:.3})\")"
   ],
   "metadata": {
    "collapsed": false
   }
  },
  {
   "cell_type": "code",
   "execution_count": null,
   "outputs": [],
   "source": [],
   "metadata": {
    "collapsed": false
   }
  }
 ],
 "metadata": {
  "kernelspec": {
   "display_name": "Python 3",
   "language": "python",
   "name": "python3"
  },
  "language_info": {
   "codemirror_mode": {
    "name": "ipython",
    "version": 2
   },
   "file_extension": ".py",
   "mimetype": "text/x-python",
   "name": "python",
   "nbconvert_exporter": "python",
   "pygments_lexer": "ipython2",
   "version": "2.7.6"
  }
 },
 "nbformat": 4,
 "nbformat_minor": 0
}