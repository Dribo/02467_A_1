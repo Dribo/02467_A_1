{
 "cells": [
  {
   "cell_type": "code",
   "execution_count": 195,
   "metadata": {
    "collapsed": true,
    "pycharm": {
     "name": "#%%\n"
    }
   },
   "outputs": [],
   "source": [
    "import numpy as np\n",
    "from tqdm import tqdm\n",
    "from collections import defaultdict\n",
    "import json\n",
    "import networkx as nx\n",
    "import pandas as pd\n",
    "from ast import literal_eval\n",
    "from networkx.readwrite import json_graph\n",
    "import matplotlib.pyplot as plt\n"
   ]
  },
  {
   "cell_type": "code",
   "execution_count": 196,
   "outputs": [],
   "source": [
    "def read_json_file(filename):\n",
    "    with open(filename) as f:\n",
    "        js_graph = json.load(f)\n",
    "    return json_graph.node_link_graph(js_graph)"
   ],
   "metadata": {
    "collapsed": false,
    "pycharm": {
     "name": "#%%\n"
    }
   }
  },
  {
   "cell_type": "code",
   "execution_count": 197,
   "outputs": [],
   "source": [
    "G = read_json_file('./data/graph.json')"
   ],
   "metadata": {
    "collapsed": false,
    "pycharm": {
     "name": "#%%\n"
    }
   }
  },
  {
   "cell_type": "code",
   "execution_count": 198,
   "outputs": [],
   "source": [
    "field_list = []\n",
    "\n",
    "def remove_node_if_no_field(author):\n",
    "    try:\n",
    "        field = G.nodes[author]['top_field']\n",
    "        if field == 'nan':\n",
    "            G.remove_node(author)\n",
    "        else:\n",
    "            field_list.append(field)\n",
    "    except KeyError:\n",
    "        G.remove_node(author)\n",
    "\n",
    "authors = list(G.nodes)\n",
    "for a in authors:\n",
    "    remove_node_if_no_field(a)"
   ],
   "metadata": {
    "collapsed": false,
    "pycharm": {
     "name": "#%%\n"
    }
   }
  },
  {
   "cell_type": "code",
   "execution_count": 199,
   "outputs": [
    {
     "name": "stdout",
     "output_type": "stream",
     "text": [
      "5652\n"
     ]
    }
   ],
   "source": [
    "n = len(G.nodes)\n",
    "print(n)"
   ],
   "metadata": {
    "collapsed": false,
    "pycharm": {
     "name": "#%%\n"
    }
   }
  },
  {
   "cell_type": "code",
   "execution_count": 200,
   "outputs": [
    {
     "name": "stdout",
     "output_type": "stream",
     "text": [
      "Geography\n",
      "[]\n"
     ]
    }
   ],
   "source": [
    "print(G.nodes[83401236]['top_field'])\n",
    "print(list(G.adj[83401236]))"
   ],
   "metadata": {
    "collapsed": false,
    "pycharm": {
     "name": "#%%\n"
    }
   }
  },
  {
   "cell_type": "code",
   "execution_count": 201,
   "outputs": [],
   "source": [
    "def edge_same_top_field(edge, graph):\n",
    "    field_a = graph.nodes[edge[0]]['top_field']\n",
    "    field_b = graph.nodes[edge[1]]['top_field']\n",
    "    return field_a == field_b\n",
    "\n"
   ],
   "metadata": {
    "collapsed": false,
    "pycharm": {
     "name": "#%%\n"
    }
   }
  },
  {
   "cell_type": "code",
   "execution_count": 202,
   "outputs": [],
   "source": [
    "top_field_fraq_list = [edge_same_top_field(edge, G) for edge in list(G.edges)]"
   ],
   "metadata": {
    "collapsed": false,
    "pycharm": {
     "name": "#%%\n"
    }
   }
  },
  {
   "cell_type": "code",
   "execution_count": 203,
   "outputs": [],
   "source": [
    "top_field_fraq = np.mean(top_field_fraq_list)"
   ],
   "metadata": {
    "collapsed": false,
    "pycharm": {
     "name": "#%%\n"
    }
   }
  },
  {
   "cell_type": "code",
   "execution_count": 203,
   "outputs": [],
   "source": [],
   "metadata": {
    "collapsed": false,
    "pycharm": {
     "name": "#%%\n"
    }
   }
  },
  {
   "cell_type": "code",
   "execution_count": 204,
   "outputs": [
    {
     "name": "stderr",
     "output_type": "stream",
     "text": [
      "100%|██████████| 500/500 [00:11<00:00, 41.70it/s]\n"
     ]
    }
   ],
   "source": [
    "def randomize_field_get_mean(graph):\n",
    "    for author, field in zip(list(graph.nodes), np.random.permutation(field_list)):\n",
    "        graph.nodes[author]['top_field'] = field\n",
    "\n",
    "    top_field_fraq = [edge_same_top_field(edge, graph) for edge in list(graph.edges)]\n",
    "\n",
    "    return np.mean(top_field_fraq)\n",
    "\n",
    "results = []\n",
    "N_repeat = 500\n",
    "graph_copy = G.copy()\n",
    "\n",
    "for i in tqdm(range(N_repeat)):\n",
    "    results.append(randomize_field_get_mean(graph_copy))"
   ],
   "metadata": {
    "collapsed": false,
    "pycharm": {
     "name": "#%%\n"
    }
   }
  },
  {
   "cell_type": "code",
   "execution_count": 204,
   "outputs": [],
   "source": [],
   "metadata": {
    "collapsed": false,
    "pycharm": {
     "name": "#%%\n"
    }
   }
  },
  {
   "cell_type": "code",
   "execution_count": 205,
   "outputs": [
    {
     "data": {
      "text/plain": "<matplotlib.legend.Legend at 0x7f8425f17fa0>"
     },
     "execution_count": 205,
     "metadata": {},
     "output_type": "execute_result"
    },
    {
     "data": {
      "text/plain": "<Figure size 640x480 with 1 Axes>",
      "image/png": "[encoded data removed]"
     },
     "metadata": {},
     "output_type": "display_data"
    }
   ],
   "source": [
    "bins = np.linspace(0.2, 0.55, 50)\n",
    "hist, edges = np.histogram(results, bins=bins)\n",
    "x = (edges[1:] + edges[:-1])/2\n",
    "width = bins[1] - bins[0]\n",
    "\n",
    "fig, axs = plt.subplots()\n",
    "axs.bar(x, hist, width=width*0.9)\n",
    "\n",
    "axs.set_xlabel('Same field fraction')\n",
    "axs.set_ylabel('N_repeats')\n",
    "axs.axline((top_field_fraq, 0), (top_field_fraq, max(results)), color='red', label='real mean')\n",
    "axs.legend()"
   ],
   "metadata": {
    "collapsed": false,
    "pycharm": {
     "name": "#%%\n"
    }
   }
  },
  {
   "cell_type": "code",
   "execution_count": 206,
   "outputs": [
    {
     "name": "stdout",
     "output_type": "stream",
     "text": [
      "43\n"
     ]
    }
   ],
   "source": [
    "fields_unique = np.unique(field_list)\n",
    "fields_unique_n = len(fields_unique)\n",
    "\n",
    "field_index = {}\n",
    "\n",
    "for i in range(fields_unique_n): # Use this index for matrix\n",
    "    field_index[fields_unique[i]] = i\n",
    "\n",
    "degree_max = np.max([t[1] for t in list(G.degree)])\n",
    "print(degree_max)\n",
    "\n",
    "field_matrix = np.zeros((fields_unique_n-1, fields_unique_n-1)) # -1 to avoid the nan which is included in fields unique\n",
    "degree_matrix = np.zeros((44, 44))\n",
    "\n",
    "for edge in list(G.edges): # For all edges, increment related matrix values\n",
    "\n",
    "    field_a = G.nodes[edge[0]]['top_field']\n",
    "    field_b = G.nodes[edge[1]]['top_field']\n",
    "\n",
    "    deg_a = G.degree[edge[0]]\n",
    "    deg_b = G.degree[edge[1]]\n",
    "\n",
    "    degree_matrix[deg_a, deg_b] += 1\n",
    "    degree_matrix[deg_b, deg_a] += 1\n",
    "\n",
    "    try:\n",
    "        field_a_index = field_index[field_a]\n",
    "        field_b_index = field_index[field_b]\n",
    "\n",
    "        field_matrix[field_a_index, field_b_index] += 1\n",
    "        field_matrix[field_b_index, field_a_index] += 1\n",
    "\n",
    "    except: # Some fields are nan, do nothing\n",
    "        pass\n",
    "\n",
    "field_matrix = field_matrix.astype(int)\n",
    "field_matrix = np.divide(field_matrix, np.sum(field_matrix))\n",
    "\n",
    "degree_matrix = np.divide(degree_matrix, np.sum(degree_matrix))\n",
    "\n"
   ],
   "metadata": {
    "collapsed": false,
    "pycharm": {
     "name": "#%%\n"
    }
   }
  },
  {
   "cell_type": "code",
   "execution_count": 207,
   "outputs": [],
   "source": [
    "r_field = (np.trace(field_matrix) - np.sum(field_matrix**2))/(1-np.sum(field_matrix**2))\n",
    "r_degree = (np.trace(degree_matrix) - np.sum(degree_matrix**2))/(1-np.sum(degree_matrix**2))"
   ],
   "metadata": {
    "collapsed": false,
    "pycharm": {
     "name": "#%%\n"
    }
   }
  },
  {
   "cell_type": "code",
   "execution_count": 208,
   "outputs": [
    {
     "name": "stdout",
     "output_type": "stream",
     "text": [
      "assortativity coefficient for field 0.43215723604432005\n",
      "assortativity coefficient for degree 0.4732615784444879\n",
      "0\n"
     ]
    }
   ],
   "source": [
    "print(\"assortativity coefficient for field\", r_field)\n",
    "\n",
    "print(\"assortativity coefficient for degree\", r_degree)\n",
    "\n",
    "\n",
    "print(G.degree[83401236])\n"
   ],
   "metadata": {
    "collapsed": false,
    "pycharm": {
     "name": "#%%\n"
    }
   }
  },
  {
   "cell_type": "code",
   "execution_count": 209,
   "outputs": [
    {
     "name": "stdout",
     "output_type": "stream",
     "text": [
      "['Art' 'Biology' 'Business' 'Chemistry' 'Computer Science' 'Economics'\n",
      " 'Engineering' 'Environmental Science' 'Geography' 'Geology' 'History'\n",
      " 'Materials Science' 'Mathematics' 'Medicine' 'Philosophy' 'Physics'\n",
      " 'Political Science' 'Psychology' 'Sociology' 'nan']\n",
      "[[ 0  0  0  0  0  0  0  0  0  0  0  0  0  0  0  0  0  0  0]\n",
      " [ 0  0  0  0  0  0  0  0  0  0  0  0  0  0  0  0  0  0  0]\n",
      " [ 0  0  0  0  0  0  0  0  0  0  0  0  0  0  0  0  0  0  0]\n",
      " [ 0  0  0  0  0  0  0  0  0  0  0  0  0  0  0  0  0  0  0]\n",
      " [ 0  0  0  0 36  1  0  0  0  0  0  0  0  3  0  1  2  1  1]\n",
      " [ 0  0  0  0  1  1  0  0  0  0  0  0  0  0  0  0  0  0  0]\n",
      " [ 0  0  0  0  0  0  0  0  0  0  0  0  0  0  0  0  0  0  0]\n",
      " [ 0  0  0  0  0  0  0  0  0  0  0  0  0  0  0  0  0  0  0]\n",
      " [ 0  0  0  0  0  0  0  0  0  0  0  0  0  0  0  0  0  0  0]\n",
      " [ 0  0  0  0  0  0  0  0  0  0  0  0  0  0  0  0  0  0  0]\n",
      " [ 0  0  0  0  0  0  0  0  0  0  0  0  0  0  0  0  0  0  0]\n",
      " [ 0  0  0  0  0  0  0  0  0  0  0  0  0  0  0  0  0  0  0]\n",
      " [ 0  0  0  0  0  0  0  0  0  0  0  0  0  0  0  0  0  0  0]\n",
      " [ 0  0  0  0  3  0  0  0  0  0  0  0  0  5  0  0  0  0  0]\n",
      " [ 0  0  0  0  0  0  0  0  0  0  0  0  0  0  0  0  0  0  0]\n",
      " [ 0  0  0  0  1  0  0  0  0  0  0  0  0  0  0  0  0  0  0]\n",
      " [ 0  0  0  0  2  0  0  0  0  0  0  0  0  0  0  0  3  0  0]\n",
      " [ 0  0  0  0  1  0  0  0  0  0  0  0  0  0  0  0  0  1  0]\n",
      " [ 0  0  0  0  1  0  0  0  0  0  0  0  0  0  0  0  0  0  0]]\n"
     ]
    }
   ],
   "source": [
    "print(fields_unique)\n",
    "print((field_matrix*100).astype(int))"
   ],
   "metadata": {
    "collapsed": false,
    "pycharm": {
     "name": "#%%\n"
    }
   }
  },
  {
   "cell_type": "code",
   "execution_count": 209,
   "outputs": [],
   "source": [],
   "metadata": {
    "collapsed": false,
    "pycharm": {
     "name": "#%%\n"
    }
   }
  },
  {
   "cell_type": "code",
   "execution_count": 209,
   "outputs": [],
   "source": [],
   "metadata": {
    "collapsed": false,
    "pycharm": {
     "name": "#%%\n"
    }
   }
  }
 ],
 "metadata": {
  "kernelspec": {
   "display_name": "Python 3",
   "language": "python",
   "name": "python3"
  },
  "language_info": {
   "codemirror_mode": {
    "name": "ipython",
    "version": 2
   },
   "file_extension": ".py",
   "mimetype": "text/x-python",
   "name": "python",
   "nbconvert_exporter": "python",
   "pygments_lexer": "ipython2",
   "version": "2.7.6"
  }
 },
 "nbformat": 4,
 "nbformat_minor": 0
}