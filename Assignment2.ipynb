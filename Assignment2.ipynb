{
 "cells": [
  {
   "cell_type": "code",
   "execution_count": 2,
   "metadata": {
    "collapsed": true,
    "pycharm": {
     "name": "#%%\n"
    }
   },
   "outputs": [],
   "source": [
    "import numpy as np\n",
    "from tqdm import tqdm\n",
    "from collections import defaultdict\n",
    "import json\n",
    "import networkx as nx\n",
    "import pandas as pd\n",
    "from ast import literal_eval\n",
    "from networkx.readwrite import json_graph\n",
    "import matplotlib.pyplot as plt\n"
   ]
  },
  {
   "cell_type": "code",
   "execution_count": 3,
   "outputs": [],
   "source": [
    "def read_json_file(filename):\n",
    "    with open(filename) as f:\n",
    "        js_graph = json.load(f)\n",
    "    return json_graph.node_link_graph(js_graph)"
   ],
   "metadata": {
    "collapsed": false,
    "pycharm": {
     "name": "#%%\n"
    }
   }
  },
  {
   "cell_type": "code",
   "execution_count": 4,
   "outputs": [],
   "source": [
    "G = read_json_file('./data/graph.json')"
   ],
   "metadata": {
    "collapsed": false,
    "pycharm": {
     "name": "#%%\n"
    }
   }
  },
  {
   "cell_type": "code",
   "execution_count": 5,
   "outputs": [],
   "source": [
    "field_list = []\n",
    "\n",
    "def remove_node_if_no_field(author):\n",
    "    try:\n",
    "        field = G.nodes[author]['top_field']\n",
    "        if field == 'nan':\n",
    "            G.remove_node(author)\n",
    "        else:\n",
    "            field_list.append(field)\n",
    "    except KeyError:\n",
    "        G.remove_node(author)\n",
    "\n",
    "authors = list(G.nodes)\n",
    "for a in authors:\n",
    "    remove_node_if_no_field(a)"
   ],
   "metadata": {
    "collapsed": false,
    "pycharm": {
     "name": "#%%\n"
    }
   }
  },
  {
   "cell_type": "code",
   "execution_count": 6,
   "outputs": [
    {
     "name": "stdout",
     "output_type": "stream",
     "text": [
      "5652\n"
     ]
    }
   ],
   "source": [
    "n = len(G.nodes)\n",
    "print(n)"
   ],
   "metadata": {
    "collapsed": false,
    "pycharm": {
     "name": "#%%\n"
    }
   }
  },
  {
   "cell_type": "code",
   "execution_count": 7,
   "outputs": [
    {
     "name": "stdout",
     "output_type": "stream",
     "text": [
      "Geography\n",
      "[]\n"
     ]
    }
   ],
   "source": [
    "print(G.nodes[83401236]['top_field'])\n",
    "print(list(G.adj[83401236]))"
   ],
   "metadata": {
    "collapsed": false,
    "pycharm": {
     "name": "#%%\n"
    }
   }
  },
  {
   "cell_type": "code",
   "execution_count": 8,
   "outputs": [],
   "source": [
    "def edge_same_top_field(edge, graph):\n",
    "    field_a = graph.nodes[edge[0]]['top_field']\n",
    "    field_b = graph.nodes[edge[1]]['top_field']\n",
    "    return field_a == field_b\n",
    "\n"
   ],
   "metadata": {
    "collapsed": false,
    "pycharm": {
     "name": "#%%\n"
    }
   }
  },
  {
   "cell_type": "code",
   "execution_count": 9,
   "outputs": [],
   "source": [
    "top_field_fraq_list = [edge_same_top_field(edge, G) for edge in list(G.edges)]"
   ],
   "metadata": {
    "collapsed": false,
    "pycharm": {
     "name": "#%%\n"
    }
   }
  },
  {
   "cell_type": "code",
   "execution_count": 10,
   "outputs": [],
   "source": [
    "top_field_fraq = np.mean(top_field_fraq_list)"
   ],
   "metadata": {
    "collapsed": false,
    "pycharm": {
     "name": "#%%\n"
    }
   }
  },
  {
   "cell_type": "code",
   "execution_count": 10,
   "outputs": [],
   "source": [],
   "metadata": {
    "collapsed": false,
    "pycharm": {
     "name": "#%%\n"
    }
   }
  },
  {
   "cell_type": "code",
   "execution_count": 11,
   "outputs": [
    {
     "name": "stderr",
     "output_type": "stream",
     "text": [
      "100%|██████████| 500/500 [00:10<00:00, 47.80it/s]\n"
     ]
    }
   ],
   "source": [
    "def randomize_field_get_mean(graph):\n",
    "    for author, field in zip(list(graph.nodes), np.random.permutation(field_list)):\n",
    "        graph.nodes[author]['top_field'] = field\n",
    "\n",
    "    top_field_fraq = [edge_same_top_field(edge, graph) for edge in list(graph.edges)]\n",
    "\n",
    "    return np.mean(top_field_fraq)\n",
    "\n",
    "results = []\n",
    "N_repeat = 500\n",
    "graph_copy = G.copy()\n",
    "\n",
    "for i in tqdm(range(N_repeat)):\n",
    "    results.append(randomize_field_get_mean(graph_copy))"
   ],
   "metadata": {
    "collapsed": false,
    "pycharm": {
     "name": "#%%\n"
    }
   }
  },
  {
   "cell_type": "code",
   "execution_count": 11,
   "outputs": [],
   "source": [],
   "metadata": {
    "collapsed": false,
    "pycharm": {
     "name": "#%%\n"
    }
   }
  },
  {
   "cell_type": "code",
   "execution_count": 12,
   "outputs": [
    {
     "data": {
      "text/plain": "<matplotlib.legend.Legend at 0x7fcf3069d360>"
     },
     "execution_count": 12,
     "metadata": {},
     "output_type": "execute_result"
    },
    {
     "data": {
      "text/plain": "<Figure size 640x480 with 1 Axes>",
      "image/png": "[encoded data removed]"
     },
     "metadata": {},
     "output_type": "display_data"
    }
   ],
   "source": [
    "bins = np.linspace(0.2, 0.55, 50)\n",
    "hist, edges = np.histogram(results, bins=bins)\n",
    "x = (edges[1:] + edges[:-1])/2\n",
    "width = bins[1] - bins[0]\n",
    "\n",
    "fig, axs = plt.subplots()\n",
    "axs.bar(x, hist, width=width*0.9)\n",
    "\n",
    "axs.set_xlabel('Same field fraction')\n",
    "axs.set_ylabel('N_repeats')\n",
    "axs.axline((top_field_fraq, 0), (top_field_fraq, max(results)), color='red', label='real mean')\n",
    "axs.legend()"
   ],
   "metadata": {
    "collapsed": false,
    "pycharm": {
     "name": "#%%\n"
    }
   }
  },
  {
   "cell_type": "code",
   "execution_count": 13,
   "outputs": [
    {
     "name": "stdout",
     "output_type": "stream",
     "text": [
      "43\n"
     ]
    }
   ],
   "source": [
    "fields_unique = np.unique(field_list)\n",
    "fields_unique_n = len(fields_unique)\n",
    "\n",
    "field_index = {}\n",
    "\n",
    "for i in range(fields_unique_n): # Use this index for matrix\n",
    "    field_index[fields_unique[i]] = i\n",
    "\n",
    "degree_max = np.max([t[1] for t in list(G.degree)])\n",
    "print(degree_max)\n",
    "\n",
    "field_matrix = np.zeros((fields_unique_n-1, fields_unique_n-1)) # -1 to avoid the nan which is included in fields unique\n",
    "degree_matrix = np.zeros((44, 44))\n",
    "\n",
    "for edge in list(G.edges): # For all edges, increment related matrix values\n",
    "\n",
    "    field_a = G.nodes[edge[0]]['top_field']\n",
    "    field_b = G.nodes[edge[1]]['top_field']\n",
    "\n",
    "    deg_a = G.degree[edge[0]]\n",
    "    deg_b = G.degree[edge[1]]\n",
    "\n",
    "    degree_matrix[deg_a, deg_b] += 1\n",
    "    degree_matrix[deg_b, deg_a] += 1\n",
    "\n",
    "    try:\n",
    "        field_a_index = field_index[field_a]\n",
    "        field_b_index = field_index[field_b]\n",
    "\n",
    "        field_matrix[field_a_index, field_b_index] += 1\n",
    "        field_matrix[field_b_index, field_a_index] += 1\n",
    "\n",
    "    except: # Some fields are nan, do nothing\n",
    "        pass\n",
    "\n",
    "field_matrix = field_matrix.astype(int)\n",
    "field_matrix = np.divide(field_matrix, np.sum(field_matrix))\n",
    "\n",
    "degree_matrix = np.divide(degree_matrix, np.sum(degree_matrix))\n",
    "\n"
   ],
   "metadata": {
    "collapsed": false,
    "pycharm": {
     "name": "#%%\n"
    }
   }
  },
  {
   "cell_type": "code",
   "execution_count": 14,
   "outputs": [],
   "source": [
    "r_field = (np.trace(field_matrix) - np.sum(field_matrix**2))/(1-np.sum(field_matrix**2))\n",
    "r_degree = (np.trace(degree_matrix) - np.sum(degree_matrix**2))/(1-np.sum(degree_matrix**2))"
   ],
   "metadata": {
    "collapsed": false,
    "pycharm": {
     "name": "#%%\n"
    }
   }
  },
  {
   "cell_type": "code",
   "execution_count": null,
   "outputs": [],
   "source": [
    "print(\"assortativity coefficient for field\", r_field)\n",
    "\n",
    "print(\"assortativity coefficient for degree\", r_degree)\n",
    "\n",
    "print(G.degree[83401236])\n"
   ],
   "metadata": {
    "collapsed": false,
    "pycharm": {
     "name": "#%%\n"
    }
   }
  },
  {
   "cell_type": "code",
   "execution_count": null,
   "outputs": [],
   "source": [
    "print(fields_unique)\n",
    "print((field_matrix*100).astype(int))"
   ],
   "metadata": {
    "collapsed": false,
    "pycharm": {
     "name": "#%%\n"
    }
   }
  },
  {
   "cell_type": "markdown",
   "source": [],
   "metadata": {
    "collapsed": false,
    "pycharm": {
     "name": "#%% md\n"
    }
   }
  },
  {
   "cell_type": "code",
   "execution_count": null,
   "outputs": [],
   "source": [
    "from netwulf.interactive import visualize"
   ],
   "metadata": {
    "collapsed": false,
    "pycharm": {
     "name": "#%%\n"
    }
   }
  },
  {
   "cell_type": "markdown",
   "source": [
    "**Exercise 2**"
   ],
   "metadata": {
    "collapsed": false,
    "pycharm": {
     "name": "#%% md\n"
    }
   }
  },
  {
   "cell_type": "code",
   "execution_count": null,
   "outputs": [],
   "source": [
    "G = nx.karate_club_graph()"
   ],
   "metadata": {
    "collapsed": false,
    "pycharm": {
     "name": "#%%\n"
    }
   }
  },
  {
   "cell_type": "code",
   "execution_count": null,
   "outputs": [],
   "source": [
    "club_colors = {'Mr. Hi': '#0000ff', 'Officer': '#ff0000'}\n",
    "\n",
    "for i in range(len(G.nodes)):\n",
    "    club = G.nodes[i]['club']\n",
    "    G.nodes[i]['color'] = club_colors[club]\n",
    "\n",
    "def modularity(graph, partitioning):\n",
    "    L_c = defaultdict(lambda: 0)\n",
    "    L = len(graph.nodes)\n",
    "\n",
    "    for node in graph.nodes:\n",
    "\n",
    "        partition = graph.nodes[node][partitioning]\n",
    "        L_c[partition] += 1\n",
    "\n",
    "    k = len(graph.edges)\n",
    "    k_c = defaultdict(lambda: 0)\n",
    "\n",
    "    for edge in graph.edges:\n",
    "        partition1 = graph.nodes[edge[0]][partitioning]\n",
    "        partition2 = graph.nodes[edge[1]][partitioning]\n",
    "        if partition1 == partition2:\n",
    "            k_c[partition1] += 1\n",
    "\n",
    "    M = 0\n",
    "\n",
    "    for i in range(len(k_c)):\n",
    "        M += (list(L_c.values())[i]/L) - (list(k_c.values())[i]/(2*L))**2\n",
    "\n",
    "    return M\n",
    "\n",
    "\n",
    "\n"
   ],
   "metadata": {
    "collapsed": false,
    "pycharm": {
     "name": "#%%\n"
    }
   }
  },
  {
   "cell_type": "markdown",
   "source": [
    "Modularity reflects communities within the network structure. A high modularity means a partition is good at separating chunks of nodes that have high interlinkage. This also means that if a network structure is scrambled, the modularity can be greatly affected using the same partition.\n",
    "\n",
    "Another way of looking at it, is that modularity is high, when few links (edges) need to be broken to create to separate graphs for each partition."
   ],
   "metadata": {
    "collapsed": false,
    "pycharm": {
     "name": "#%% md\n"
    }
   }
  },
  {
   "cell_type": "code",
   "execution_count": null,
   "outputs": [],
   "source": [
    "visualize(G)\n"
   ],
   "metadata": {
    "collapsed": false,
    "pycharm": {
     "name": "#%%\n"
    }
   }
  },
  {
   "cell_type": "code",
   "execution_count": null,
   "outputs": [],
   "source": [
    "# 4\n",
    "print(modularity(G, 'club'))"
   ],
   "metadata": {
    "collapsed": false,
    "pycharm": {
     "name": "#%%\n"
    }
   }
  },
  {
   "cell_type": "code",
   "execution_count": null,
   "outputs": [],
   "source": [
    "# 5\n",
    "G_copy = G.copy()\n",
    "\n",
    "print(G_copy.edges)\n",
    "\n",
    "def get_two_edges(graph):\n",
    "    n_edges = len(graph.edges)\n",
    "    n = np.random.choice(n_edges, 2)\n",
    "    edge1 = list(graph.edges)[n[0]]\n",
    "    edge2 = list(graph.edges)[n[1]]\n",
    "    return edge1, edge2\n",
    "\n",
    "def double_edge_swap(graph):\n",
    "    (u, v), (x, y) = get_two_edges(graph)\n",
    "\n",
    "    if u == v or v == x:\n",
    "        return double_edge_swap(graph)\n",
    "\n",
    "    if not graph.has_edge(u, y):\n",
    "        return double_edge_swap(graph)\n",
    "\n",
    "    if not graph.has_edge(x, v):\n",
    "        return double_edge_swap(graph)\n",
    "\n",
    "    print(\"Removing\", u, y, \"and\", x, v, \"and adding\", u, v, \"and\", x,y)\n",
    "    graph.add_edge(u, y)\n",
    "    graph.add_edge(x, v)\n",
    "\n",
    "    graph.remove_edge(u, v)\n",
    "    graph.remove_edge(x, y)\n",
    "\n",
    "    return graph\n",
    "\n",
    "def N_swaps(graph, N = 100):\n",
    "    if N > 0:\n",
    "        return N_swaps(double_edge_swap(graph), N=N-1)\n",
    "    else:\n",
    "        return graph\n",
    "\n",
    "print(double_edge_swap(G_copy).edges)\n",
    "\n",
    "G_copy = N_swaps(G_copy, 5)\n",
    "\n",
    "\n",
    "\n",
    "for u, v in G_copy.edges:\n",
    "    for x, y in G_copy.edges:\n",
    "        if u != v and v != x: # b\n",
    "            edge1_exists = G_copy.has_edge(u, y)\n",
    "            edge2_exists = G_copy.has_edge(x, v)\n",
    "            if not edge1_exists and not edge2_exists: # If edges dont exist\n",
    "                #print(u, v)\n",
    "                G_copy.add_edge(u, y) # Add them\n",
    "                G_copy.add_edge(x, v)\n",
    "                G_copy.remove_edge(u, v) # Remove others\n",
    "                G_copy.remove_edge(x, y)\n"
   ],
   "metadata": {
    "collapsed": false,
    "pycharm": {
     "name": "#%%\n"
    }
   }
  },
  {
   "cell_type": "code",
   "execution_count": 44,
   "outputs": [
    {
     "name": "stdout",
     "output_type": "stream",
     "text": [
      "0.5136245674740485\n"
     ]
    }
   ],
   "source": [
    "club_colors = {'Mr. Hi': '#0000ff', 'Officer': '#ff0000'}\n",
    "\n",
    "for i in range(len(G.nodes)):\n",
    "    club = G.nodes[i]['club']\n",
    "    G.nodes[i]['color'] = club_colors[club]\n",
    "\n",
    "def modularity(graph, partitioning):\n",
    "    L_c = defaultdict(lambda: 0)\n",
    "    L = len(graph.nodes)\n",
    "\n",
    "    for node in graph.nodes:\n",
    "\n",
    "        partition = graph.nodes[node][partitioning]\n",
    "        L_c[partition] += 1\n",
    "\n",
    "    k = len(graph.edges)\n",
    "    k_c = defaultdict(lambda: 0)\n",
    "\n",
    "    for edge in graph.edges:\n",
    "        partition1 = graph.nodes[edge[0]][partitioning]\n",
    "        partition2 = graph.nodes[edge[1]][partitioning]\n",
    "        if partition1 == partition2:\n",
    "            k_c[partition1] += 1\n",
    "\n",
    "    M = 0\n",
    "\n",
    "    for i in range(len(k_c)):\n",
    "        M += (list(L_c.values())[i]/L) - (list(k_c.values())[i]/(2*L))**2\n",
    "\n",
    "    return M\n",
    "\n",
    "\n",
    "\n"
   ],
   "metadata": {
    "collapsed": false,
    "pycharm": {
     "name": "#%%\n"
    }
   }
  },
  {
   "cell_type": "markdown",
   "source": [
    "Modularity reflects communities within the network structure. A high modularity means a partition is good at separating chunks of nodes that have high interlinkage. This also means that if a network structure is scrambled, the modularity can be greatly affected using the same partition.\n",
    "\n",
    "Another way of looking at it, is that modularity is high, when few links (edges) need to be broken to create to separate graphs for each partition."
   ],
   "metadata": {
    "collapsed": false,
    "pycharm": {
     "name": "#%% md\n"
    }
   }
  },
  {
   "cell_type": "code",
   "execution_count": 37,
   "outputs": [
    {
     "name": "stderr",
     "output_type": "stream",
     "text": [
      "----------------------------------------\n",
      "Exception occurred during processing of request from ('127.0.0.1', 57274)\n",
      "Traceback (most recent call last):\n",
      "  File \"/Users/philiphelsted/opt/anaconda3/envs/02467CSS/lib/python3.10/socketserver.py\", line 316, in _handle_request_noblock\n",
      "    self.process_request(request, client_address)\n",
      "  File \"/Users/philiphelsted/opt/anaconda3/envs/02467CSS/lib/python3.10/socketserver.py\", line 347, in process_request\n",
      "    self.finish_request(request, client_address)\n",
      "  File \"/Users/philiphelsted/opt/anaconda3/envs/02467CSS/lib/python3.10/socketserver.py\", line 360, in finish_request\n",
      "    self.RequestHandlerClass(request, client_address, self)\n",
      "  File \"/Users/philiphelsted/opt/anaconda3/envs/02467CSS/lib/python3.10/http/server.py\", line 668, in __init__\n",
      "    super().__init__(*args, **kwargs)\n",
      "  File \"/Users/philiphelsted/opt/anaconda3/envs/02467CSS/lib/python3.10/socketserver.py\", line 747, in __init__\n",
      "    self.handle()\n",
      "  File \"/Users/philiphelsted/opt/anaconda3/envs/02467CSS/lib/python3.10/http/server.py\", line 433, in handle\n",
      "    self.handle_one_request()\n",
      "  File \"/Users/philiphelsted/opt/anaconda3/envs/02467CSS/lib/python3.10/http/server.py\", line 421, in handle_one_request\n",
      "    method()\n",
      "  File \"/Users/philiphelsted/opt/anaconda3/envs/02467CSS/lib/python3.10/http/server.py\", line 675, in do_GET\n",
      "    self.copyfile(f, self.wfile)\n",
      "  File \"/Users/philiphelsted/opt/anaconda3/envs/02467CSS/lib/python3.10/http/server.py\", line 875, in copyfile\n",
      "    shutil.copyfileobj(source, outputfile)\n",
      "  File \"/Users/philiphelsted/opt/anaconda3/envs/02467CSS/lib/python3.10/shutil.py\", line 198, in copyfileobj\n",
      "    fdst_write(buf)\n",
      "  File \"/Users/philiphelsted/opt/anaconda3/envs/02467CSS/lib/python3.10/socketserver.py\", line 826, in write\n",
      "    self._sock.sendall(b)\n",
      "BrokenPipeError: [Errno 32] Broken pipe\n",
      "----------------------------------------\n",
      "----------------------------------------\n",
      "Exception occurred during processing of request from ('127.0.0.1', 57276)\n",
      "Traceback (most recent call last):\n",
      "  File \"/Users/philiphelsted/opt/anaconda3/envs/02467CSS/lib/python3.10/socketserver.py\", line 316, in _handle_request_noblock\n",
      "    self.process_request(request, client_address)\n",
      "  File \"/Users/philiphelsted/opt/anaconda3/envs/02467CSS/lib/python3.10/socketserver.py\", line 347, in process_request\n",
      "    self.finish_request(request, client_address)\n",
      "  File \"/Users/philiphelsted/opt/anaconda3/envs/02467CSS/lib/python3.10/socketserver.py\", line 360, in finish_request\n",
      "    self.RequestHandlerClass(request, client_address, self)\n",
      "  File \"/Users/philiphelsted/opt/anaconda3/envs/02467CSS/lib/python3.10/http/server.py\", line 668, in __init__\n",
      "    super().__init__(*args, **kwargs)\n",
      "  File \"/Users/philiphelsted/opt/anaconda3/envs/02467CSS/lib/python3.10/socketserver.py\", line 747, in __init__\n",
      "    self.handle()\n",
      "  File \"/Users/philiphelsted/opt/anaconda3/envs/02467CSS/lib/python3.10/http/server.py\", line 433, in handle\n",
      "    self.handle_one_request()\n",
      "  File \"/Users/philiphelsted/opt/anaconda3/envs/02467CSS/lib/python3.10/http/server.py\", line 421, in handle_one_request\n",
      "    method()\n",
      "  File \"/Users/philiphelsted/opt/anaconda3/envs/02467CSS/lib/python3.10/http/server.py\", line 675, in do_GET\n",
      "    self.copyfile(f, self.wfile)\n",
      "  File \"/Users/philiphelsted/opt/anaconda3/envs/02467CSS/lib/python3.10/http/server.py\", line 875, in copyfile\n",
      "    shutil.copyfileobj(source, outputfile)\n",
      "  File \"/Users/philiphelsted/opt/anaconda3/envs/02467CSS/lib/python3.10/shutil.py\", line 198, in copyfileobj\n",
      "    fdst_write(buf)\n",
      "  File \"/Users/philiphelsted/opt/anaconda3/envs/02467CSS/lib/python3.10/socketserver.py\", line 826, in write\n",
      "    self._sock.sendall(b)\n",
      "BrokenPipeError: [Errno 32] Broken pipe\n",
      "----------------------------------------\n"
     ]
    },
    {
     "data": {
      "text/plain": "(None, None)"
     },
     "execution_count": 37,
     "metadata": {},
     "output_type": "execute_result"
    }
   ],
   "source": [
    "visualize(G)\n"
   ],
   "metadata": {
    "collapsed": false,
    "pycharm": {
     "name": "#%%\n"
    }
   }
  },
  {
   "cell_type": "code",
   "execution_count": 46,
   "outputs": [
    {
     "name": "stdout",
     "output_type": "stream",
     "text": [
      "0.5136245674740485\n"
     ]
    }
   ],
   "source": [
    "# 4\n",
    "print(modularity(G, 'club'))"
   ],
   "metadata": {
    "collapsed": false,
    "pycharm": {
     "name": "#%%\n"
    }
   }
  },
  {
   "cell_type": "code",
   "execution_count": 67,
   "outputs": [
    {
     "name": "stdout",
     "output_type": "stream",
     "text": [
      "[(0, 1), (0, 2), (0, 3), (0, 4), (0, 5), (0, 6), (0, 7), (0, 8), (0, 10), (0, 11), (0, 12), (0, 13), (0, 17), (0, 19), (0, 21), (0, 31), (1, 2), (1, 3), (1, 7), (1, 13), (1, 17), (1, 19), (1, 21), (1, 30), (2, 3), (2, 7), (2, 8), (2, 9), (2, 13), (2, 27), (2, 28), (2, 32), (3, 7), (3, 12), (3, 13), (4, 6), (4, 10), (5, 6), (5, 10), (5, 16), (6, 16), (8, 30), (8, 32), (8, 33), (9, 33), (13, 33), (14, 32), (14, 33), (15, 32), (15, 33), (18, 32), (18, 33), (19, 33), (20, 32), (20, 33), (22, 32), (22, 33), (23, 25), (23, 27), (23, 29), (23, 32), (23, 33), (24, 25), (24, 27), (24, 31), (25, 31), (26, 29), (26, 33), (27, 33), (28, 31), (28, 33), (29, 32), (29, 33), (30, 32), (30, 33), (31, 32), (31, 33), (32, 33)]\n",
      "Removing 31 32 and 31 33 and adding 31 33 and 31 32\n",
      "[(0, 1), (0, 2), (0, 3), (0, 4), (0, 5), (0, 6), (0, 7), (0, 8), (0, 10), (0, 11), (0, 12), (0, 13), (0, 17), (0, 19), (0, 21), (0, 31), (1, 2), (1, 3), (1, 7), (1, 13), (1, 17), (1, 19), (1, 21), (1, 30), (2, 3), (2, 7), (2, 8), (2, 9), (2, 13), (2, 27), (2, 28), (2, 32), (3, 7), (3, 12), (3, 13), (4, 6), (4, 10), (5, 6), (5, 10), (5, 16), (6, 16), (8, 30), (8, 32), (8, 33), (9, 33), (13, 33), (14, 32), (14, 33), (15, 32), (15, 33), (18, 32), (18, 33), (19, 33), (20, 32), (20, 33), (22, 32), (22, 33), (23, 25), (23, 27), (23, 29), (23, 32), (23, 33), (24, 25), (24, 27), (24, 31), (25, 31), (26, 29), (26, 33), (27, 33), (28, 31), (28, 33), (29, 32), (29, 33), (30, 32), (30, 33), (32, 33)]\n"
     ]
    },
    {
     "ename": "TypeError",
     "evalue": "double_edge_swap() takes 1 positional argument but 2 were given",
     "output_type": "error",
     "traceback": [
      "\u001B[0;31m---------------------------------------------------------------------------\u001B[0m",
      "\u001B[0;31mTypeError\u001B[0m                                 Traceback (most recent call last)",
      "Cell \u001B[0;32mIn[67], line 42\u001B[0m\n\u001B[1;32m     38\u001B[0m         \u001B[38;5;28;01mreturn\u001B[39;00m graph\n\u001B[1;32m     40\u001B[0m \u001B[38;5;28mprint\u001B[39m(double_edge_swap(G_copy)\u001B[38;5;241m.\u001B[39medges)\n\u001B[0;32m---> 42\u001B[0m G_copy \u001B[38;5;241m=\u001B[39m \u001B[43mN_swaps\u001B[49m\u001B[43m(\u001B[49m\u001B[43mG_copy\u001B[49m\u001B[43m,\u001B[49m\u001B[43m \u001B[49m\u001B[38;5;241;43m5\u001B[39;49m\u001B[43m)\u001B[49m\n\u001B[1;32m     46\u001B[0m \u001B[38;5;28;01mfor\u001B[39;00m u, v \u001B[38;5;129;01min\u001B[39;00m G_copy\u001B[38;5;241m.\u001B[39medges:\n\u001B[1;32m     47\u001B[0m     \u001B[38;5;28;01mfor\u001B[39;00m x, y \u001B[38;5;129;01min\u001B[39;00m G_copy\u001B[38;5;241m.\u001B[39medges:\n",
      "Cell \u001B[0;32mIn[67], line 36\u001B[0m, in \u001B[0;36mN_swaps\u001B[0;34m(graph, N)\u001B[0m\n\u001B[1;32m     34\u001B[0m \u001B[38;5;28;01mdef\u001B[39;00m \u001B[38;5;21mN_swaps\u001B[39m(graph, N \u001B[38;5;241m=\u001B[39m \u001B[38;5;241m100\u001B[39m):\n\u001B[1;32m     35\u001B[0m     \u001B[38;5;28;01mif\u001B[39;00m N \u001B[38;5;241m>\u001B[39m \u001B[38;5;241m0\u001B[39m:\n\u001B[0;32m---> 36\u001B[0m         \u001B[38;5;28;01mreturn\u001B[39;00m \u001B[43mdouble_edge_swap\u001B[49m\u001B[43m(\u001B[49m\u001B[43mgraph\u001B[49m\u001B[43m,\u001B[49m\u001B[43m \u001B[49m\u001B[43mN\u001B[49m\u001B[38;5;241;43m-\u001B[39;49m\u001B[38;5;241;43m1\u001B[39;49m\u001B[43m)\u001B[49m\n\u001B[1;32m     37\u001B[0m     \u001B[38;5;28;01melse\u001B[39;00m:\n\u001B[1;32m     38\u001B[0m         \u001B[38;5;28;01mreturn\u001B[39;00m graph\n",
      "\u001B[0;31mTypeError\u001B[0m: double_edge_swap() takes 1 positional argument but 2 were given"
     ]
    }
   ],
   "source": [
    "# 5\n",
    "G_copy = G.copy()\n",
    "\n",
    "print(G_copy.edges)\n",
    "\n",
    "def get_two_edges(graph):\n",
    "    n_edges = len(graph.edges)\n",
    "    n = np.random.choice(n_edges, 2)\n",
    "    edge1 = list(graph.edges)[n[0]]\n",
    "    edge2 = list(graph.edges)[n[1]]\n",
    "    return edge1, edge2\n",
    "\n",
    "def double_edge_swap(graph):\n",
    "    (u, v), (x, y) = get_two_edges(graph)\n",
    "\n",
    "    if u == v or v == x:\n",
    "        return double_edge_swap(graph)\n",
    "\n",
    "    if not graph.has_edge(u, y):\n",
    "        return double_edge_swap(graph)\n",
    "\n",
    "    if not graph.has_edge(x, v):\n",
    "        return double_edge_swap(graph)\n",
    "\n",
    "    print(\"Removing\", u, y, \"and\", x, v, \"and adding\", u, v, \"and\", x,y)\n",
    "    graph.add_edge(u, y)\n",
    "    graph.add_edge(x, v)\n",
    "\n",
    "    graph.remove_edge(u, v)\n",
    "    graph.remove_edge(x, y)\n",
    "\n",
    "    return graph\n",
    "\n",
    "def N_swaps(graph, N = 100):\n",
    "    if N > 0:\n",
    "        return N_swaps(double_edge_swap(graph), N=N-1)\n",
    "    else:\n",
    "        return graph\n",
    "\n",
    "print(double_edge_swap(G_copy).edges)\n",
    "\n",
    "G_copy = N_swaps(G_copy, 5)\n",
    "\n",
    "\n",
    "\n",
    "for u, v in G_copy.edges:\n",
    "    for x, y in G_copy.edges:\n",
    "        if u != v and v != x: # b\n",
    "            edge1_exists = G_copy.has_edge(u, y)\n",
    "            edge2_exists = G_copy.has_edge(x, v)\n",
    "            if not edge1_exists and not edge2_exists: # If edges dont exist\n",
    "                #print(u, v)\n",
    "                G_copy.add_edge(u, y) # Add them\n",
    "                G_copy.add_edge(x, v)\n",
    "                G_copy.remove_edge(u, v) # Remove others\n",
    "                G_copy.remove_edge(x, y)\n"
   ],
   "metadata": {
    "collapsed": false,
    "pycharm": {
     "name": "#%%\n"
    }
   }
  },
  {
   "cell_type": "code",
   "execution_count": null,
   "outputs": [],
   "source": [],
   "metadata": {
    "collapsed": false,
    "pycharm": {
     "name": "#%%\n",
     "is_executing": true
    }
   }
  },
  {
   "cell_type": "code",
   "execution_count": 56,
   "outputs": [],
   "source": [],
   "metadata": {
    "collapsed": false,
    "pycharm": {
     "name": "#%%\n"
    }
   }
  }
 ],
 "metadata": {
  "kernelspec": {
   "display_name": "Python 3",
   "language": "python",
   "name": "python3"
  },
  "language_info": {
   "codemirror_mode": {
    "name": "ipython",
    "version": 2
   },
   "file_extension": ".py",
   "mimetype": "text/x-python",
   "name": "python",
   "nbconvert_exporter": "python",
   "pygments_lexer": "ipython2",
   "version": "2.7.6"
  }
 },
 "nbformat": 4,
 "nbformat_minor": 0
}