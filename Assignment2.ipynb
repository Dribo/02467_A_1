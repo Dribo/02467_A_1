{
 "cells": [
  {
   "cell_type": "code",
   "execution_count": 104,
   "metadata": {
    "collapsed": true,
    "pycharm": {
     "name": "#%%\n"
    }
   },
   "outputs": [],
   "source": [
    "import numpy as np\n",
    "from tqdm import tqdm\n",
    "from collections import defaultdict\n",
    "import json\n",
    "import networkx as nx\n",
    "import pandas as pd\n",
    "from ast import literal_eval\n",
    "from networkx.readwrite import json_graph\n",
    "import matplotlib.pyplot as plt\n"
   ]
  },
  {
   "cell_type": "code",
   "execution_count": 73,
   "outputs": [],
   "source": [
    "def read_json_file(filename):\n",
    "    with open(filename) as f:\n",
    "        js_graph = json.load(f)\n",
    "    return json_graph.node_link_graph(js_graph)"
   ],
   "metadata": {
    "collapsed": false,
    "pycharm": {
     "name": "#%%\n"
    }
   }
  },
  {
   "cell_type": "code",
   "execution_count": 74,
   "outputs": [],
   "source": [
    "G = read_json_file('./data/graph.json')"
   ],
   "metadata": {
    "collapsed": false,
    "pycharm": {
     "name": "#%%\n"
    }
   }
  },
  {
   "cell_type": "code",
   "execution_count": 75,
   "outputs": [],
   "source": [
    "field_list = []\n",
    "\n",
    "def remove_node_if_no_field(author):\n",
    "    try:\n",
    "        field = G.nodes[author]['top_field']\n",
    "        field_list.append(field)\n",
    "    except KeyError:\n",
    "        G.remove_node(author)\n",
    "\n",
    "authors = list(G.nodes)\n",
    "for a in authors:\n",
    "    remove_node_if_no_field(a)"
   ],
   "metadata": {
    "collapsed": false,
    "pycharm": {
     "name": "#%%\n"
    }
   }
  },
  {
   "cell_type": "code",
   "execution_count": 82,
   "outputs": [
    {
     "name": "stdout",
     "output_type": "stream",
     "text": [
      "5652\n"
     ]
    }
   ],
   "source": [
    "n = len(G.nodes)\n",
    "print(n)"
   ],
   "metadata": {
    "collapsed": false,
    "pycharm": {
     "name": "#%%\n"
    }
   }
  },
  {
   "cell_type": "code",
   "execution_count": 77,
   "outputs": [
    {
     "name": "stdout",
     "output_type": "stream",
     "text": [
      "Geography\n",
      "[]\n"
     ]
    }
   ],
   "source": [
    "print(G.nodes[83401236]['top_field'])\n",
    "print(list(G.adj[83401236]))"
   ],
   "metadata": {
    "collapsed": false,
    "pycharm": {
     "name": "#%%\n"
    }
   }
  },
  {
   "cell_type": "code",
   "execution_count": 117,
   "outputs": [],
   "source": [
    "def edge_same_top_field(edge, graph):\n",
    "    field_a = graph.nodes[edge[0]]['top_field']\n",
    "    field_b = graph.nodes[edge[1]]['top_field']\n",
    "    return field_a == field_b\n",
    "\n"
   ],
   "metadata": {
    "collapsed": false,
    "pycharm": {
     "name": "#%%\n"
    }
   }
  },
  {
   "cell_type": "code",
   "execution_count": 118,
   "outputs": [],
   "source": [
    "top_field_fraq_list = [edge_same_top_field(edge, G) for edge in list(G.edges)]"
   ],
   "metadata": {
    "collapsed": false,
    "pycharm": {
     "name": "#%%\n"
    }
   }
  },
  {
   "cell_type": "code",
   "execution_count": 119,
   "outputs": [],
   "source": [
    "top_field_fraq = np.mean(top_field_fraq_list)"
   ],
   "metadata": {
    "collapsed": false,
    "pycharm": {
     "name": "#%%\n"
    }
   }
  },
  {
   "cell_type": "code",
   "execution_count": 119,
   "outputs": [],
   "source": [],
   "metadata": {
    "collapsed": false,
    "pycharm": {
     "name": "#%%\n"
    }
   }
  },
  {
   "cell_type": "code",
   "execution_count": 124,
   "outputs": [
    {
     "name": "stderr",
     "output_type": "stream",
     "text": [
      "100%|██████████| 500/500 [00:11<00:00, 42.84it/s]\n"
     ]
    }
   ],
   "source": [
    "def randomize_field_get_mean(graph):\n",
    "    for author, field in zip(list(graph.nodes), np.random.permutation(field_list)):\n",
    "        graph.nodes[author]['top_field'] = field\n",
    "\n",
    "    top_field_fraq = [edge_same_top_field(edge, graph) for edge in list(graph.edges)]\n",
    "\n",
    "    return np.mean(top_field_fraq)\n",
    "\n",
    "results = []\n",
    "N_repeat = 500\n",
    "graph_copy = G.copy()\n",
    "\n",
    "for i in tqdm(range(N_repeat)):\n",
    "    results.append(randomize_field_get_mean(graph_copy))"
   ],
   "metadata": {
    "collapsed": false,
    "pycharm": {
     "name": "#%%\n"
    }
   }
  },
  {
   "cell_type": "code",
   "execution_count": null,
   "outputs": [],
   "source": [],
   "metadata": {
    "collapsed": false,
    "pycharm": {
     "name": "#%%\n",
     "is_executing": true
    }
   }
  },
  {
   "cell_type": "code",
   "execution_count": 126,
   "outputs": [
    {
     "data": {
      "text/plain": "<matplotlib.legend.Legend at 0x7f8428e89cf0>"
     },
     "execution_count": 126,
     "metadata": {},
     "output_type": "execute_result"
    },
    {
     "data": {
      "text/plain": "<Figure size 640x480 with 1 Axes>",
      "image/png": "[encoded data removed]"
     },
     "metadata": {},
     "output_type": "display_data"
    }
   ],
   "source": [
    "bins = np.linspace(0.2, 0.55, 50)\n",
    "hist, edges = np.histogram(results, bins=bins)\n",
    "x = (edges[1:] + edges[:-1])/2\n",
    "width = bins[1] - bins[0]\n",
    "\n",
    "fig, axs = plt.subplots()\n",
    "axs.bar(x, hist, width=width*0.9)\n",
    "\n",
    "axs.set_xlabel('Same field fraction')\n",
    "axs.set_ylabel('N_repeats')\n",
    "axs.axline((top_field_fraq, 0), (top_field_fraq, max(results)), color='red', label='real mean')\n",
    "axs.legend()"
   ],
   "metadata": {
    "collapsed": false,
    "pycharm": {
     "name": "#%%\n"
    }
   }
  },
  {
   "cell_type": "code",
   "execution_count": 81,
   "outputs": [],
   "source": [],
   "metadata": {
    "collapsed": false,
    "pycharm": {
     "name": "#%%\n"
    }
   }
  },
  {
   "cell_type": "code",
   "execution_count": 81,
   "outputs": [],
   "source": [],
   "metadata": {
    "collapsed": false,
    "pycharm": {
     "name": "#%%\n"
    }
   }
  }
 ],
 "metadata": {
  "kernelspec": {
   "display_name": "Python 3",
   "language": "python",
   "name": "python3"
  },
  "language_info": {
   "codemirror_mode": {
    "name": "ipython",
    "version": 2
   },
   "file_extension": ".py",
   "mimetype": "text/x-python",
   "name": "python",
   "nbconvert_exporter": "python",
   "pygments_lexer": "ipython2",
   "version": "2.7.6"
  }
 },
 "nbformat": 4,
 "nbformat_minor": 0
}